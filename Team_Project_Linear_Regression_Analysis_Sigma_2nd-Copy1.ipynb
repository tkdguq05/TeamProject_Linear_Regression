{
 "cells": [
  {
   "cell_type": "markdown",
   "metadata": {},
   "source": [
    "### Load Python Package"
   ]
  },
  {
   "cell_type": "code",
   "execution_count": 11,
   "metadata": {
    "collapsed": true,
    "scrolled": false
   },
   "outputs": [],
   "source": [
    "import pandas as pd\n",
    "import numpy as np\n",
    "import matplotlib.pyplot as plt\n",
    "import matplotlib\n",
    "from datetime import datetime\n",
    "from datetime import date\n",
    "import seaborn as sns\n",
    "from shapely.geometry import Point, MultiPolygon\n",
    "import geojson\n",
    "import statsmodels.api as sm\n",
    "from statsmodels.stats.outliers_influence import variance_inflation_factor\n",
    "import scipy as sp\n",
    "from statsmodels.graphics import utils\n",
    "import statsmodels.stats.api as sms\n",
    "from sklearn.preprocessing import PolynomialFeatures\n",
    "from sklearn.pipeline import make_pipeline\n",
    "from sklearn.linear_model import LinearRegression, Ridge, Lasso, ElasticNet\n",
    "from sklearn.model_selection import KFold\n",
    "from sklearn.preprocessing import OneHotEncoder, LabelEncoder\n",
    "from statsmodels.stats.outliers_influence import variance_inflation_factor\n",
    "from sklearn.metrics import mean_squared_error\n",
    "from math import sqrt\n",
    "import statsmodels.stats.stattools as stools\n",
    "%matplotlib inline"
   ]
  },
  {
   "cell_type": "markdown",
   "metadata": {},
   "source": [
    "### Load Training dataet"
   ]
  },
  {
   "cell_type": "code",
   "execution_count": 12,
   "metadata": {
    "scrolled": true
   },
   "outputs": [
    {
     "name": "stdout",
     "output_type": "stream",
     "text": [
      "Training data has 701778 rows and 32 columns\n",
      "data : 701778\n",
      "Feature : 32\n"
     ]
    }
   ],
   "source": [
    "train = pd.read_csv('./data/transformed_train.csv')\n",
    "print (\"Training data has {} rows and {} columns\".format(train.shape[0],train.shape[1]))\n",
    "print (\"data : {}\".format(train.shape[0]))\n",
    "print (\"Feature : {}\".format(train.shape[1]))"
   ]
  },
  {
   "cell_type": "code",
   "execution_count": 13,
   "metadata": {},
   "outputs": [
    {
     "data": {
      "text/plain": [
       "(701778, 32)"
      ]
     },
     "execution_count": 13,
     "metadata": {},
     "output_type": "execute_result"
    }
   ],
   "source": [
    "train.shape"
   ]
  },
  {
   "cell_type": "markdown",
   "metadata": {},
   "source": [
    "## feature Selection"
   ]
  },
  {
   "cell_type": "markdown",
   "metadata": {},
   "source": [
    "####  변수 선정\n",
    "* 초기 모델을 위한 feature 선정\n",
    "> EDA 결과\n",
    "> * Distance / dummy_manhattan_dist / Distance & dummay_manhattan\n",
    "> * Hour\n",
    "   * weekend / rest_day / day_of_week 중 하나를 선택하여 interaction 설정\n",
    "> * pickup_Province\n",
    "> * dropoff_Province"
   ]
  },
  {
   "cell_type": "markdown",
   "metadata": {},
   "source": [
    "#### 선택된 독립변수를 제외한 나머지 독립변수가 종속변수에 영향을 주는 정도를 확인"
   ]
  },
  {
   "cell_type": "code",
   "execution_count": 14,
   "metadata": {
    "scrolled": false
   },
   "outputs": [
    {
     "data": {
      "text/html": [
       "<div>\n",
       "<style>\n",
       "    .dataframe thead tr:only-child th {\n",
       "        text-align: right;\n",
       "    }\n",
       "\n",
       "    .dataframe thead th {\n",
       "        text-align: left;\n",
       "    }\n",
       "\n",
       "    .dataframe tbody tr th {\n",
       "        vertical-align: top;\n",
       "    }\n",
       "</style>\n",
       "<table border=\"1\" class=\"dataframe\">\n",
       "  <thead>\n",
       "    <tr style=\"text-align: right;\">\n",
       "      <th></th>\n",
       "      <th>sum_sq</th>\n",
       "      <th>df</th>\n",
       "      <th>F</th>\n",
       "      <th>PR(&gt;F)</th>\n",
       "    </tr>\n",
       "  </thead>\n",
       "  <tbody>\n",
       "    <tr>\n",
       "      <th>C(vendor_id)</th>\n",
       "      <td>75.943643</td>\n",
       "      <td>1.0</td>\n",
       "      <td>151.117391</td>\n",
       "      <td>9.961155e-35</td>\n",
       "    </tr>\n",
       "    <tr>\n",
       "      <th>C(store_and_fwd_flag)</th>\n",
       "      <td>4.394340</td>\n",
       "      <td>1.0</td>\n",
       "      <td>8.744132</td>\n",
       "      <td>3.106103e-03</td>\n",
       "    </tr>\n",
       "    <tr>\n",
       "      <th>C(Event)</th>\n",
       "      <td>11.121952</td>\n",
       "      <td>1.0</td>\n",
       "      <td>22.131154</td>\n",
       "      <td>2.546919e-06</td>\n",
       "    </tr>\n",
       "    <tr>\n",
       "      <th>C(pickup_dropoff_same_Province)</th>\n",
       "      <td>85030.257278</td>\n",
       "      <td>1.0</td>\n",
       "      <td>169198.502313</td>\n",
       "      <td>0.000000e+00</td>\n",
       "    </tr>\n",
       "    <tr>\n",
       "      <th>scale(passenger_count)</th>\n",
       "      <td>59.663010</td>\n",
       "      <td>1.0</td>\n",
       "      <td>118.721173</td>\n",
       "      <td>1.211529e-27</td>\n",
       "    </tr>\n",
       "    <tr>\n",
       "      <th>scale(bearing)</th>\n",
       "      <td>1136.920270</td>\n",
       "      <td>1.0</td>\n",
       "      <td>2262.314769</td>\n",
       "      <td>0.000000e+00</td>\n",
       "    </tr>\n",
       "    <tr>\n",
       "      <th>Residual</th>\n",
       "      <td>352673.149377</td>\n",
       "      <td>701771.0</td>\n",
       "      <td>NaN</td>\n",
       "      <td>NaN</td>\n",
       "    </tr>\n",
       "  </tbody>\n",
       "</table>\n",
       "</div>"
      ],
      "text/plain": [
       "                                        sum_sq        df              F  \\\n",
       "C(vendor_id)                         75.943643       1.0     151.117391   \n",
       "C(store_and_fwd_flag)                 4.394340       1.0       8.744132   \n",
       "C(Event)                             11.121952       1.0      22.131154   \n",
       "C(pickup_dropoff_same_Province)   85030.257278       1.0  169198.502313   \n",
       "scale(passenger_count)               59.663010       1.0     118.721173   \n",
       "scale(bearing)                     1136.920270       1.0    2262.314769   \n",
       "Residual                         352673.149377  701771.0            NaN   \n",
       "\n",
       "                                       PR(>F)  \n",
       "C(vendor_id)                     9.961155e-35  \n",
       "C(store_and_fwd_flag)            3.106103e-03  \n",
       "C(Event)                         2.546919e-06  \n",
       "C(pickup_dropoff_same_Province)  0.000000e+00  \n",
       "scale(passenger_count)           1.211529e-27  \n",
       "scale(bearing)                   0.000000e+00  \n",
       "Residual                                  NaN  "
      ]
     },
     "execution_count": 14,
     "metadata": {},
     "output_type": "execute_result"
    }
   ],
   "source": [
    "model1 = sm.OLS.from_formula(\n",
    "    \"np.log(trip_duration) ~ scale(passenger_count) + scale(bearing)  +  C(vendor_id) + C(store_and_fwd_flag) + C(Event) + C(pickup_dropoff_same_Province)\"\n",
    "    , data = train)\n",
    "result1 = model1.fit()\n",
    "sm.stats.anova_lm(result1, typ=2)"
   ]
  },
  {
   "cell_type": "markdown",
   "metadata": {},
   "source": [
    "* 추가 변수 선정\n",
    "> * pickup_dropoff_same_Province\n",
    "   * pickup과 dropoff의 위치가 같은지 여부에 대한 판단\n",
    "> * bearing"
   ]
  },
  {
   "cell_type": "markdown",
   "metadata": {},
   "source": [
    "####  최종 변수 선정\n",
    "* Distance or dummy_manhattan_dist or Distance & dummay_manhattan\n",
    "> * Distance, dummy_manhattan_dist 둘다 사용\n",
    "* Hour \n",
    "> * day_of_week\n",
    "* pickup_Province\n",
    "* dropoff_Province\n",
    "* pickup_dropoff_same_Province\n",
    "* bearing"
   ]
  },
  {
   "cell_type": "markdown",
   "metadata": {},
   "source": [
    "#### Linear Regression"
   ]
  },
  {
   "cell_type": "code",
   "execution_count": 15,
   "metadata": {
    "scrolled": false
   },
   "outputs": [
    {
     "data": {
      "text/html": [
       "<table class=\"simpletable\">\n",
       "<caption>OLS Regression Results</caption>\n",
       "<tr>\n",
       "  <th>Dep. Variable:</th>    <td>I(np.log(trip_duration))</td> <th>  R-squared:         </th>  <td>   0.645</td>  \n",
       "</tr>\n",
       "<tr>\n",
       "  <th>Model:</th>                       <td>OLS</td>           <th>  Adj. R-squared:    </th>  <td>   0.645</td>  \n",
       "</tr>\n",
       "<tr>\n",
       "  <th>Method:</th>                 <td>Least Squares</td>      <th>  F-statistic:       </th>  <td>   7053.</td>  \n",
       "</tr>\n",
       "<tr>\n",
       "  <th>Date:</th>                 <td>Wed, 25 Oct 2017</td>     <th>  Prob (F-statistic):</th>   <td>  0.00</td>   \n",
       "</tr>\n",
       "<tr>\n",
       "  <th>Time:</th>                     <td>13:49:45</td>         <th>  Log-Likelihood:    </th> <td>-4.6671e+05</td>\n",
       "</tr>\n",
       "<tr>\n",
       "  <th>No. Observations:</th>          <td>701778</td>          <th>  AIC:               </th>  <td>9.338e+05</td> \n",
       "</tr>\n",
       "<tr>\n",
       "  <th>Df Residuals:</th>              <td>701596</td>          <th>  BIC:               </th>  <td>9.359e+05</td> \n",
       "</tr>\n",
       "<tr>\n",
       "  <th>Df Model:</th>                  <td>   181</td>          <th>                     </th>      <td> </td>     \n",
       "</tr>\n",
       "<tr>\n",
       "  <th>Covariance Type:</th>          <td>nonrobust</td>        <th>                     </th>      <td> </td>     \n",
       "</tr>\n",
       "</table>\n",
       "<table class=\"simpletable\">\n",
       "<tr>\n",
       "                    <td></td>                       <th>coef</th>     <th>std err</th>      <th>t</th>      <th>P>|t|</th>  <th>[0.025</th>    <th>0.975]</th>  \n",
       "</tr>\n",
       "<tr>\n",
       "  <th>Intercept</th>                             <td>    5.5694</td> <td>    0.022</td> <td>  248.635</td> <td> 0.000</td> <td>    5.526</td> <td>    5.613</td>\n",
       "</tr>\n",
       "<tr>\n",
       "  <th>C(pickup_Province)[T.Brooklyn]</th>        <td>   -0.1857</td> <td>    0.021</td> <td>   -9.023</td> <td> 0.000</td> <td>   -0.226</td> <td>   -0.145</td>\n",
       "</tr>\n",
       "<tr>\n",
       "  <th>C(pickup_Province)[T.Manhattan]</th>       <td>   -0.1308</td> <td>    0.020</td> <td>   -6.512</td> <td> 0.000</td> <td>   -0.170</td> <td>   -0.091</td>\n",
       "</tr>\n",
       "<tr>\n",
       "  <th>C(pickup_Province)[T.Queens]</th>          <td>   -0.2670</td> <td>    0.020</td> <td>  -13.165</td> <td> 0.000</td> <td>   -0.307</td> <td>   -0.227</td>\n",
       "</tr>\n",
       "<tr>\n",
       "  <th>C(pickup_Province)[T.Staten Island]</th>   <td>    1.5343</td> <td>    0.094</td> <td>   16.261</td> <td> 0.000</td> <td>    1.349</td> <td>    1.719</td>\n",
       "</tr>\n",
       "<tr>\n",
       "  <th>C(pickup_Province)[T.outward]</th>         <td>   -0.2828</td> <td>    0.029</td> <td>   -9.793</td> <td> 0.000</td> <td>   -0.339</td> <td>   -0.226</td>\n",
       "</tr>\n",
       "<tr>\n",
       "  <th>C(dropoff_Province)[T.Brooklyn]</th>       <td>    0.2221</td> <td>    0.008</td> <td>   28.733</td> <td> 0.000</td> <td>    0.207</td> <td>    0.237</td>\n",
       "</tr>\n",
       "<tr>\n",
       "  <th>C(dropoff_Province)[T.Manhattan]</th>      <td>    0.2013</td> <td>    0.008</td> <td>   26.390</td> <td> 0.000</td> <td>    0.186</td> <td>    0.216</td>\n",
       "</tr>\n",
       "<tr>\n",
       "  <th>C(dropoff_Province)[T.Queens]</th>         <td>    0.0879</td> <td>    0.008</td> <td>   11.363</td> <td> 0.000</td> <td>    0.073</td> <td>    0.103</td>\n",
       "</tr>\n",
       "<tr>\n",
       "  <th>C(dropoff_Province)[T.Staten Island]</th>  <td>    0.1167</td> <td>    0.038</td> <td>    3.093</td> <td> 0.002</td> <td>    0.043</td> <td>    0.191</td>\n",
       "</tr>\n",
       "<tr>\n",
       "  <th>C(dropoff_Province)[T.outward]</th>        <td>   -0.0158</td> <td>    0.012</td> <td>   -1.340</td> <td> 0.180</td> <td>   -0.039</td> <td>    0.007</td>\n",
       "</tr>\n",
       "<tr>\n",
       "  <th>C(pickup_dropoff_same_Province)[T.1]</th>  <td>   -0.0457</td> <td>    0.003</td> <td>  -15.761</td> <td> 0.000</td> <td>   -0.051</td> <td>   -0.040</td>\n",
       "</tr>\n",
       "<tr>\n",
       "  <th>C(day_of_week)[T.1]</th>                   <td>    0.0559</td> <td>    0.015</td> <td>    3.764</td> <td> 0.000</td> <td>    0.027</td> <td>    0.085</td>\n",
       "</tr>\n",
       "<tr>\n",
       "  <th>C(day_of_week)[T.2]</th>                   <td>    0.0857</td> <td>    0.014</td> <td>    5.997</td> <td> 0.000</td> <td>    0.058</td> <td>    0.114</td>\n",
       "</tr>\n",
       "<tr>\n",
       "  <th>C(day_of_week)[T.3]</th>                   <td>    0.0962</td> <td>    0.014</td> <td>    6.993</td> <td> 0.000</td> <td>    0.069</td> <td>    0.123</td>\n",
       "</tr>\n",
       "<tr>\n",
       "  <th>C(day_of_week)[T.4]</th>                   <td>    0.1755</td> <td>    0.013</td> <td>   13.774</td> <td> 0.000</td> <td>    0.151</td> <td>    0.200</td>\n",
       "</tr>\n",
       "<tr>\n",
       "  <th>C(day_of_week)[T.5]</th>                   <td>    0.2757</td> <td>    0.012</td> <td>   22.735</td> <td> 0.000</td> <td>    0.252</td> <td>    0.299</td>\n",
       "</tr>\n",
       "<tr>\n",
       "  <th>C(day_of_week)[T.6]</th>                   <td>    0.2730</td> <td>    0.012</td> <td>   22.419</td> <td> 0.000</td> <td>    0.249</td> <td>    0.297</td>\n",
       "</tr>\n",
       "<tr>\n",
       "  <th>C(hr)[T.1]:C(day_of_week)[0]</th>          <td>   -0.0309</td> <td>    0.017</td> <td>   -1.766</td> <td> 0.077</td> <td>   -0.065</td> <td>    0.003</td>\n",
       "</tr>\n",
       "<tr>\n",
       "  <th>C(hr)[T.2]:C(day_of_week)[0]</th>          <td>   -0.0095</td> <td>    0.021</td> <td>   -0.461</td> <td> 0.645</td> <td>   -0.050</td> <td>    0.031</td>\n",
       "</tr>\n",
       "<tr>\n",
       "  <th>C(hr)[T.3]:C(day_of_week)[0]</th>          <td>    0.0063</td> <td>    0.023</td> <td>    0.274</td> <td> 0.784</td> <td>   -0.039</td> <td>    0.052</td>\n",
       "</tr>\n",
       "<tr>\n",
       "  <th>C(hr)[T.4]:C(day_of_week)[0]</th>          <td>   -0.0814</td> <td>    0.022</td> <td>   -3.710</td> <td> 0.000</td> <td>   -0.124</td> <td>   -0.038</td>\n",
       "</tr>\n",
       "<tr>\n",
       "  <th>C(hr)[T.5]:C(day_of_week)[0]</th>          <td>   -0.0884</td> <td>    0.018</td> <td>   -4.813</td> <td> 0.000</td> <td>   -0.124</td> <td>   -0.052</td>\n",
       "</tr>\n",
       "<tr>\n",
       "  <th>C(hr)[T.6]:C(day_of_week)[0]</th>          <td>    0.0050</td> <td>    0.014</td> <td>    0.353</td> <td> 0.724</td> <td>   -0.023</td> <td>    0.033</td>\n",
       "</tr>\n",
       "<tr>\n",
       "  <th>C(hr)[T.7]:C(day_of_week)[0]</th>          <td>    0.2567</td> <td>    0.013</td> <td>   20.080</td> <td> 0.000</td> <td>    0.232</td> <td>    0.282</td>\n",
       "</tr>\n",
       "<tr>\n",
       "  <th>C(hr)[T.8]:C(day_of_week)[0]</th>          <td>    0.4490</td> <td>    0.012</td> <td>   36.107</td> <td> 0.000</td> <td>    0.425</td> <td>    0.473</td>\n",
       "</tr>\n",
       "<tr>\n",
       "  <th>C(hr)[T.9]:C(day_of_week)[0]</th>          <td>    0.4971</td> <td>    0.012</td> <td>   39.883</td> <td> 0.000</td> <td>    0.473</td> <td>    0.522</td>\n",
       "</tr>\n",
       "<tr>\n",
       "  <th>C(hr)[T.10]:C(day_of_week)[0]</th>         <td>    0.4882</td> <td>    0.013</td> <td>   38.053</td> <td> 0.000</td> <td>    0.463</td> <td>    0.513</td>\n",
       "</tr>\n",
       "<tr>\n",
       "  <th>C(hr)[T.11]:C(day_of_week)[0]</th>         <td>    0.4771</td> <td>    0.013</td> <td>   37.358</td> <td> 0.000</td> <td>    0.452</td> <td>    0.502</td>\n",
       "</tr>\n",
       "<tr>\n",
       "  <th>C(hr)[T.12]:C(day_of_week)[0]</th>         <td>    0.4686</td> <td>    0.013</td> <td>   36.915</td> <td> 0.000</td> <td>    0.444</td> <td>    0.493</td>\n",
       "</tr>\n",
       "<tr>\n",
       "  <th>C(hr)[T.13]:C(day_of_week)[0]</th>         <td>    0.4315</td> <td>    0.013</td> <td>   33.899</td> <td> 0.000</td> <td>    0.407</td> <td>    0.456</td>\n",
       "</tr>\n",
       "<tr>\n",
       "  <th>C(hr)[T.14]:C(day_of_week)[0]</th>         <td>    0.4387</td> <td>    0.013</td> <td>   35.021</td> <td> 0.000</td> <td>    0.414</td> <td>    0.463</td>\n",
       "</tr>\n",
       "<tr>\n",
       "  <th>C(hr)[T.15]:C(day_of_week)[0]</th>         <td>    0.4532</td> <td>    0.013</td> <td>   36.026</td> <td> 0.000</td> <td>    0.429</td> <td>    0.478</td>\n",
       "</tr>\n",
       "<tr>\n",
       "  <th>C(hr)[T.16]:C(day_of_week)[0]</th>         <td>    0.4034</td> <td>    0.013</td> <td>   31.725</td> <td> 0.000</td> <td>    0.378</td> <td>    0.428</td>\n",
       "</tr>\n",
       "<tr>\n",
       "  <th>C(hr)[T.17]:C(day_of_week)[0]</th>         <td>    0.4112</td> <td>    0.012</td> <td>   33.200</td> <td> 0.000</td> <td>    0.387</td> <td>    0.436</td>\n",
       "</tr>\n",
       "<tr>\n",
       "  <th>C(hr)[T.18]:C(day_of_week)[0]</th>         <td>    0.3836</td> <td>    0.012</td> <td>   31.831</td> <td> 0.000</td> <td>    0.360</td> <td>    0.407</td>\n",
       "</tr>\n",
       "<tr>\n",
       "  <th>C(hr)[T.19]:C(day_of_week)[0]</th>         <td>    0.2611</td> <td>    0.012</td> <td>   21.498</td> <td> 0.000</td> <td>    0.237</td> <td>    0.285</td>\n",
       "</tr>\n",
       "<tr>\n",
       "  <th>C(hr)[T.20]:C(day_of_week)[0]</th>         <td>    0.1865</td> <td>    0.012</td> <td>   15.180</td> <td> 0.000</td> <td>    0.162</td> <td>    0.211</td>\n",
       "</tr>\n",
       "<tr>\n",
       "  <th>C(hr)[T.21]:C(day_of_week)[0]</th>         <td>    0.1555</td> <td>    0.012</td> <td>   12.584</td> <td> 0.000</td> <td>    0.131</td> <td>    0.180</td>\n",
       "</tr>\n",
       "<tr>\n",
       "  <th>C(hr)[T.22]:C(day_of_week)[0]</th>         <td>    0.1397</td> <td>    0.013</td> <td>   11.022</td> <td> 0.000</td> <td>    0.115</td> <td>    0.165</td>\n",
       "</tr>\n",
       "<tr>\n",
       "  <th>C(hr)[T.23]:C(day_of_week)[0]</th>         <td>    0.0795</td> <td>    0.013</td> <td>    5.911</td> <td> 0.000</td> <td>    0.053</td> <td>    0.106</td>\n",
       "</tr>\n",
       "<tr>\n",
       "  <th>C(hr)[T.1]:C(day_of_week)[1]</th>          <td>   -0.0429</td> <td>    0.017</td> <td>   -2.464</td> <td> 0.014</td> <td>   -0.077</td> <td>   -0.009</td>\n",
       "</tr>\n",
       "<tr>\n",
       "  <th>C(hr)[T.2]:C(day_of_week)[1]</th>          <td>   -0.0594</td> <td>    0.021</td> <td>   -2.845</td> <td> 0.004</td> <td>   -0.100</td> <td>   -0.018</td>\n",
       "</tr>\n",
       "<tr>\n",
       "  <th>C(hr)[T.3]:C(day_of_week)[1]</th>          <td>   -0.1001</td> <td>    0.025</td> <td>   -4.041</td> <td> 0.000</td> <td>   -0.149</td> <td>   -0.052</td>\n",
       "</tr>\n",
       "<tr>\n",
       "  <th>C(hr)[T.4]:C(day_of_week)[1]</th>          <td>   -0.1462</td> <td>    0.023</td> <td>   -6.271</td> <td> 0.000</td> <td>   -0.192</td> <td>   -0.101</td>\n",
       "</tr>\n",
       "<tr>\n",
       "  <th>C(hr)[T.5]:C(day_of_week)[1]</th>          <td>   -0.1662</td> <td>    0.018</td> <td>   -9.062</td> <td> 0.000</td> <td>   -0.202</td> <td>   -0.130</td>\n",
       "</tr>\n",
       "<tr>\n",
       "  <th>C(hr)[T.6]:C(day_of_week)[1]</th>          <td>   -0.0289</td> <td>    0.014</td> <td>   -2.081</td> <td> 0.037</td> <td>   -0.056</td> <td>   -0.002</td>\n",
       "</tr>\n",
       "<tr>\n",
       "  <th>C(hr)[T.7]:C(day_of_week)[1]</th>          <td>    0.2439</td> <td>    0.013</td> <td>   19.413</td> <td> 0.000</td> <td>    0.219</td> <td>    0.269</td>\n",
       "</tr>\n",
       "<tr>\n",
       "  <th>C(hr)[T.8]:C(day_of_week)[1]</th>          <td>    0.4641</td> <td>    0.012</td> <td>   37.721</td> <td> 0.000</td> <td>    0.440</td> <td>    0.488</td>\n",
       "</tr>\n",
       "<tr>\n",
       "  <th>C(hr)[T.9]:C(day_of_week)[1]</th>          <td>    0.5315</td> <td>    0.012</td> <td>   42.831</td> <td> 0.000</td> <td>    0.507</td> <td>    0.556</td>\n",
       "</tr>\n",
       "<tr>\n",
       "  <th>C(hr)[T.10]:C(day_of_week)[1]</th>         <td>    0.5386</td> <td>    0.013</td> <td>   42.491</td> <td> 0.000</td> <td>    0.514</td> <td>    0.563</td>\n",
       "</tr>\n",
       "<tr>\n",
       "  <th>C(hr)[T.11]:C(day_of_week)[1]</th>         <td>    0.5510</td> <td>    0.013</td> <td>   43.548</td> <td> 0.000</td> <td>    0.526</td> <td>    0.576</td>\n",
       "</tr>\n",
       "<tr>\n",
       "  <th>C(hr)[T.12]:C(day_of_week)[1]</th>         <td>    0.5369</td> <td>    0.013</td> <td>   42.550</td> <td> 0.000</td> <td>    0.512</td> <td>    0.562</td>\n",
       "</tr>\n",
       "<tr>\n",
       "  <th>C(hr)[T.13]:C(day_of_week)[1]</th>         <td>    0.5151</td> <td>    0.013</td> <td>   40.828</td> <td> 0.000</td> <td>    0.490</td> <td>    0.540</td>\n",
       "</tr>\n",
       "<tr>\n",
       "  <th>C(hr)[T.14]:C(day_of_week)[1]</th>         <td>    0.5002</td> <td>    0.012</td> <td>   40.087</td> <td> 0.000</td> <td>    0.476</td> <td>    0.525</td>\n",
       "</tr>\n",
       "<tr>\n",
       "  <th>C(hr)[T.15]:C(day_of_week)[1]</th>         <td>    0.4854</td> <td>    0.013</td> <td>   38.690</td> <td> 0.000</td> <td>    0.461</td> <td>    0.510</td>\n",
       "</tr>\n",
       "<tr>\n",
       "  <th>C(hr)[T.16]:C(day_of_week)[1]</th>         <td>    0.4520</td> <td>    0.013</td> <td>   35.367</td> <td> 0.000</td> <td>    0.427</td> <td>    0.477</td>\n",
       "</tr>\n",
       "<tr>\n",
       "  <th>C(hr)[T.17]:C(day_of_week)[1]</th>         <td>    0.4486</td> <td>    0.012</td> <td>   36.195</td> <td> 0.000</td> <td>    0.424</td> <td>    0.473</td>\n",
       "</tr>\n",
       "<tr>\n",
       "  <th>C(hr)[T.18]:C(day_of_week)[1]</th>         <td>    0.4214</td> <td>    0.012</td> <td>   34.893</td> <td> 0.000</td> <td>    0.398</td> <td>    0.445</td>\n",
       "</tr>\n",
       "<tr>\n",
       "  <th>C(hr)[T.19]:C(day_of_week)[1]</th>         <td>    0.2867</td> <td>    0.012</td> <td>   23.701</td> <td> 0.000</td> <td>    0.263</td> <td>    0.310</td>\n",
       "</tr>\n",
       "<tr>\n",
       "  <th>C(hr)[T.20]:C(day_of_week)[1]</th>         <td>    0.1970</td> <td>    0.012</td> <td>   16.251</td> <td> 0.000</td> <td>    0.173</td> <td>    0.221</td>\n",
       "</tr>\n",
       "<tr>\n",
       "  <th>C(hr)[T.21]:C(day_of_week)[1]</th>         <td>    0.1629</td> <td>    0.012</td> <td>   13.391</td> <td> 0.000</td> <td>    0.139</td> <td>    0.187</td>\n",
       "</tr>\n",
       "<tr>\n",
       "  <th>C(hr)[T.22]:C(day_of_week)[1]</th>         <td>    0.1544</td> <td>    0.012</td> <td>   12.511</td> <td> 0.000</td> <td>    0.130</td> <td>    0.179</td>\n",
       "</tr>\n",
       "<tr>\n",
       "  <th>C(hr)[T.23]:C(day_of_week)[1]</th>         <td>    0.0665</td> <td>    0.013</td> <td>    5.154</td> <td> 0.000</td> <td>    0.041</td> <td>    0.092</td>\n",
       "</tr>\n",
       "<tr>\n",
       "  <th>C(hr)[T.1]:C(day_of_week)[2]</th>          <td>   -0.0740</td> <td>    0.016</td> <td>   -4.653</td> <td> 0.000</td> <td>   -0.105</td> <td>   -0.043</td>\n",
       "</tr>\n",
       "<tr>\n",
       "  <th>C(hr)[T.2]:C(day_of_week)[2]</th>          <td>   -0.1027</td> <td>    0.018</td> <td>   -5.577</td> <td> 0.000</td> <td>   -0.139</td> <td>   -0.067</td>\n",
       "</tr>\n",
       "<tr>\n",
       "  <th>C(hr)[T.3]:C(day_of_week)[2]</th>          <td>   -0.1204</td> <td>    0.022</td> <td>   -5.598</td> <td> 0.000</td> <td>   -0.163</td> <td>   -0.078</td>\n",
       "</tr>\n",
       "<tr>\n",
       "  <th>C(hr)[T.4]:C(day_of_week)[2]</th>          <td>   -0.1634</td> <td>    0.022</td> <td>   -7.368</td> <td> 0.000</td> <td>   -0.207</td> <td>   -0.120</td>\n",
       "</tr>\n",
       "<tr>\n",
       "  <th>C(hr)[T.5]:C(day_of_week)[2]</th>          <td>   -0.1966</td> <td>    0.018</td> <td>  -11.076</td> <td> 0.000</td> <td>   -0.231</td> <td>   -0.162</td>\n",
       "</tr>\n",
       "<tr>\n",
       "  <th>C(hr)[T.6]:C(day_of_week)[2]</th>          <td>   -0.0729</td> <td>    0.013</td> <td>   -5.488</td> <td> 0.000</td> <td>   -0.099</td> <td>   -0.047</td>\n",
       "</tr>\n",
       "<tr>\n",
       "  <th>C(hr)[T.7]:C(day_of_week)[2]</th>          <td>    0.2220</td> <td>    0.012</td> <td>   18.818</td> <td> 0.000</td> <td>    0.199</td> <td>    0.245</td>\n",
       "</tr>\n",
       "<tr>\n",
       "  <th>C(hr)[T.8]:C(day_of_week)[2]</th>          <td>    0.4173</td> <td>    0.012</td> <td>   36.246</td> <td> 0.000</td> <td>    0.395</td> <td>    0.440</td>\n",
       "</tr>\n",
       "<tr>\n",
       "  <th>C(hr)[T.9]:C(day_of_week)[2]</th>          <td>    0.4872</td> <td>    0.012</td> <td>   41.574</td> <td> 0.000</td> <td>    0.464</td> <td>    0.510</td>\n",
       "</tr>\n",
       "<tr>\n",
       "  <th>C(hr)[T.10]:C(day_of_week)[2]</th>         <td>    0.4971</td> <td>    0.012</td> <td>   41.674</td> <td> 0.000</td> <td>    0.474</td> <td>    0.520</td>\n",
       "</tr>\n",
       "<tr>\n",
       "  <th>C(hr)[T.11]:C(day_of_week)[2]</th>         <td>    0.5301</td> <td>    0.012</td> <td>   44.307</td> <td> 0.000</td> <td>    0.507</td> <td>    0.554</td>\n",
       "</tr>\n",
       "<tr>\n",
       "  <th>C(hr)[T.12]:C(day_of_week)[2]</th>         <td>    0.5243</td> <td>    0.012</td> <td>   44.292</td> <td> 0.000</td> <td>    0.501</td> <td>    0.548</td>\n",
       "</tr>\n",
       "<tr>\n",
       "  <th>C(hr)[T.13]:C(day_of_week)[2]</th>         <td>    0.5069</td> <td>    0.012</td> <td>   42.709</td> <td> 0.000</td> <td>    0.484</td> <td>    0.530</td>\n",
       "</tr>\n",
       "<tr>\n",
       "  <th>C(hr)[T.14]:C(day_of_week)[2]</th>         <td>    0.4850</td> <td>    0.012</td> <td>   41.239</td> <td> 0.000</td> <td>    0.462</td> <td>    0.508</td>\n",
       "</tr>\n",
       "<tr>\n",
       "  <th>C(hr)[T.15]:C(day_of_week)[2]</th>         <td>    0.4741</td> <td>    0.012</td> <td>   40.059</td> <td> 0.000</td> <td>    0.451</td> <td>    0.497</td>\n",
       "</tr>\n",
       "<tr>\n",
       "  <th>C(hr)[T.16]:C(day_of_week)[2]</th>         <td>    0.4095</td> <td>    0.012</td> <td>   33.976</td> <td> 0.000</td> <td>    0.386</td> <td>    0.433</td>\n",
       "</tr>\n",
       "<tr>\n",
       "  <th>C(hr)[T.17]:C(day_of_week)[2]</th>         <td>    0.4370</td> <td>    0.012</td> <td>   37.392</td> <td> 0.000</td> <td>    0.414</td> <td>    0.460</td>\n",
       "</tr>\n",
       "<tr>\n",
       "  <th>C(hr)[T.18]:C(day_of_week)[2]</th>         <td>    0.3972</td> <td>    0.011</td> <td>   35.014</td> <td> 0.000</td> <td>    0.375</td> <td>    0.419</td>\n",
       "</tr>\n",
       "<tr>\n",
       "  <th>C(hr)[T.19]:C(day_of_week)[2]</th>         <td>    0.2901</td> <td>    0.011</td> <td>   25.585</td> <td> 0.000</td> <td>    0.268</td> <td>    0.312</td>\n",
       "</tr>\n",
       "<tr>\n",
       "  <th>C(hr)[T.20]:C(day_of_week)[2]</th>         <td>    0.2026</td> <td>    0.011</td> <td>   17.834</td> <td> 0.000</td> <td>    0.180</td> <td>    0.225</td>\n",
       "</tr>\n",
       "<tr>\n",
       "  <th>C(hr)[T.21]:C(day_of_week)[2]</th>         <td>    0.1622</td> <td>    0.011</td> <td>   14.280</td> <td> 0.000</td> <td>    0.140</td> <td>    0.184</td>\n",
       "</tr>\n",
       "<tr>\n",
       "  <th>C(hr)[T.22]:C(day_of_week)[2]</th>         <td>    0.1463</td> <td>    0.012</td> <td>   12.698</td> <td> 0.000</td> <td>    0.124</td> <td>    0.169</td>\n",
       "</tr>\n",
       "<tr>\n",
       "  <th>C(hr)[T.23]:C(day_of_week)[2]</th>         <td>    0.0918</td> <td>    0.012</td> <td>    7.650</td> <td> 0.000</td> <td>    0.068</td> <td>    0.115</td>\n",
       "</tr>\n",
       "<tr>\n",
       "  <th>C(hr)[T.1]:C(day_of_week)[3]</th>          <td>   -0.0632</td> <td>    0.015</td> <td>   -4.327</td> <td> 0.000</td> <td>   -0.092</td> <td>   -0.035</td>\n",
       "</tr>\n",
       "<tr>\n",
       "  <th>C(hr)[T.2]:C(day_of_week)[3]</th>          <td>   -0.0931</td> <td>    0.017</td> <td>   -5.326</td> <td> 0.000</td> <td>   -0.127</td> <td>   -0.059</td>\n",
       "</tr>\n",
       "<tr>\n",
       "  <th>C(hr)[T.3]:C(day_of_week)[3]</th>          <td>   -0.1345</td> <td>    0.020</td> <td>   -6.776</td> <td> 0.000</td> <td>   -0.173</td> <td>   -0.096</td>\n",
       "</tr>\n",
       "<tr>\n",
       "  <th>C(hr)[T.4]:C(day_of_week)[3]</th>          <td>   -0.1664</td> <td>    0.021</td> <td>   -8.076</td> <td> 0.000</td> <td>   -0.207</td> <td>   -0.126</td>\n",
       "</tr>\n",
       "<tr>\n",
       "  <th>C(hr)[T.5]:C(day_of_week)[3]</th>          <td>   -0.1965</td> <td>    0.017</td> <td>  -11.533</td> <td> 0.000</td> <td>   -0.230</td> <td>   -0.163</td>\n",
       "</tr>\n",
       "<tr>\n",
       "  <th>C(hr)[T.6]:C(day_of_week)[3]</th>          <td>   -0.0728</td> <td>    0.013</td> <td>   -5.769</td> <td> 0.000</td> <td>   -0.097</td> <td>   -0.048</td>\n",
       "</tr>\n",
       "<tr>\n",
       "  <th>C(hr)[T.7]:C(day_of_week)[3]</th>          <td>    0.2103</td> <td>    0.011</td> <td>   18.855</td> <td> 0.000</td> <td>    0.188</td> <td>    0.232</td>\n",
       "</tr>\n",
       "<tr>\n",
       "  <th>C(hr)[T.8]:C(day_of_week)[3]</th>          <td>    0.4287</td> <td>    0.011</td> <td>   39.388</td> <td> 0.000</td> <td>    0.407</td> <td>    0.450</td>\n",
       "</tr>\n",
       "<tr>\n",
       "  <th>C(hr)[T.9]:C(day_of_week)[3]</th>          <td>    0.4782</td> <td>    0.011</td> <td>   43.181</td> <td> 0.000</td> <td>    0.456</td> <td>    0.500</td>\n",
       "</tr>\n",
       "<tr>\n",
       "  <th>C(hr)[T.10]:C(day_of_week)[3]</th>         <td>    0.4824</td> <td>    0.011</td> <td>   42.868</td> <td> 0.000</td> <td>    0.460</td> <td>    0.505</td>\n",
       "</tr>\n",
       "<tr>\n",
       "  <th>C(hr)[T.11]:C(day_of_week)[3]</th>         <td>    0.5133</td> <td>    0.011</td> <td>   45.667</td> <td> 0.000</td> <td>    0.491</td> <td>    0.535</td>\n",
       "</tr>\n",
       "<tr>\n",
       "  <th>C(hr)[T.12]:C(day_of_week)[3]</th>         <td>    0.5107</td> <td>    0.011</td> <td>   45.782</td> <td> 0.000</td> <td>    0.489</td> <td>    0.533</td>\n",
       "</tr>\n",
       "<tr>\n",
       "  <th>C(hr)[T.13]:C(day_of_week)[3]</th>         <td>    0.4708</td> <td>    0.011</td> <td>   42.033</td> <td> 0.000</td> <td>    0.449</td> <td>    0.493</td>\n",
       "</tr>\n",
       "<tr>\n",
       "  <th>C(hr)[T.14]:C(day_of_week)[3]</th>         <td>    0.4872</td> <td>    0.011</td> <td>   44.157</td> <td> 0.000</td> <td>    0.466</td> <td>    0.509</td>\n",
       "</tr>\n",
       "<tr>\n",
       "  <th>C(hr)[T.15]:C(day_of_week)[3]</th>         <td>    0.4749</td> <td>    0.011</td> <td>   42.736</td> <td> 0.000</td> <td>    0.453</td> <td>    0.497</td>\n",
       "</tr>\n",
       "<tr>\n",
       "  <th>C(hr)[T.16]:C(day_of_week)[3]</th>         <td>    0.4271</td> <td>    0.011</td> <td>   37.200</td> <td> 0.000</td> <td>    0.405</td> <td>    0.450</td>\n",
       "</tr>\n",
       "<tr>\n",
       "  <th>C(hr)[T.17]:C(day_of_week)[3]</th>         <td>    0.4063</td> <td>    0.011</td> <td>   36.742</td> <td> 0.000</td> <td>    0.385</td> <td>    0.428</td>\n",
       "</tr>\n",
       "<tr>\n",
       "  <th>C(hr)[T.18]:C(day_of_week)[3]</th>         <td>    0.4090</td> <td>    0.011</td> <td>   38.442</td> <td> 0.000</td> <td>    0.388</td> <td>    0.430</td>\n",
       "</tr>\n",
       "<tr>\n",
       "  <th>C(hr)[T.19]:C(day_of_week)[3]</th>         <td>    0.3180</td> <td>    0.011</td> <td>   29.964</td> <td> 0.000</td> <td>    0.297</td> <td>    0.339</td>\n",
       "</tr>\n",
       "<tr>\n",
       "  <th>C(hr)[T.20]:C(day_of_week)[3]</th>         <td>    0.2392</td> <td>    0.011</td> <td>   22.482</td> <td> 0.000</td> <td>    0.218</td> <td>    0.260</td>\n",
       "</tr>\n",
       "<tr>\n",
       "  <th>C(hr)[T.21]:C(day_of_week)[3]</th>         <td>    0.1991</td> <td>    0.011</td> <td>   18.800</td> <td> 0.000</td> <td>    0.178</td> <td>    0.220</td>\n",
       "</tr>\n",
       "<tr>\n",
       "  <th>C(hr)[T.22]:C(day_of_week)[3]</th>         <td>    0.1904</td> <td>    0.011</td> <td>   17.817</td> <td> 0.000</td> <td>    0.169</td> <td>    0.211</td>\n",
       "</tr>\n",
       "<tr>\n",
       "  <th>C(hr)[T.23]:C(day_of_week)[3]</th>         <td>    0.1296</td> <td>    0.011</td> <td>   11.863</td> <td> 0.000</td> <td>    0.108</td> <td>    0.151</td>\n",
       "</tr>\n",
       "<tr>\n",
       "  <th>C(hr)[T.1]:C(day_of_week)[4]</th>          <td>   -0.0400</td> <td>    0.011</td> <td>   -3.503</td> <td> 0.000</td> <td>   -0.062</td> <td>   -0.018</td>\n",
       "</tr>\n",
       "<tr>\n",
       "  <th>C(hr)[T.2]:C(day_of_week)[4]</th>          <td>   -0.0864</td> <td>    0.013</td> <td>   -6.768</td> <td> 0.000</td> <td>   -0.111</td> <td>   -0.061</td>\n",
       "</tr>\n",
       "<tr>\n",
       "  <th>C(hr)[T.3]:C(day_of_week)[4]</th>          <td>   -0.1058</td> <td>    0.014</td> <td>   -7.505</td> <td> 0.000</td> <td>   -0.133</td> <td>   -0.078</td>\n",
       "</tr>\n",
       "<tr>\n",
       "  <th>C(hr)[T.4]:C(day_of_week)[4]</th>          <td>   -0.1548</td> <td>    0.016</td> <td>   -9.868</td> <td> 0.000</td> <td>   -0.186</td> <td>   -0.124</td>\n",
       "</tr>\n",
       "<tr>\n",
       "  <th>C(hr)[T.5]:C(day_of_week)[4]</th>          <td>   -0.2504</td> <td>    0.015</td> <td>  -16.252</td> <td> 0.000</td> <td>   -0.281</td> <td>   -0.220</td>\n",
       "</tr>\n",
       "<tr>\n",
       "  <th>C(hr)[T.6]:C(day_of_week)[4]</th>          <td>   -0.1586</td> <td>    0.012</td> <td>  -13.718</td> <td> 0.000</td> <td>   -0.181</td> <td>   -0.136</td>\n",
       "</tr>\n",
       "<tr>\n",
       "  <th>C(hr)[T.7]:C(day_of_week)[4]</th>          <td>    0.1036</td> <td>    0.010</td> <td>   10.484</td> <td> 0.000</td> <td>    0.084</td> <td>    0.123</td>\n",
       "</tr>\n",
       "<tr>\n",
       "  <th>C(hr)[T.8]:C(day_of_week)[4]</th>          <td>    0.3081</td> <td>    0.010</td> <td>   32.070</td> <td> 0.000</td> <td>    0.289</td> <td>    0.327</td>\n",
       "</tr>\n",
       "<tr>\n",
       "  <th>C(hr)[T.9]:C(day_of_week)[4]</th>          <td>    0.3649</td> <td>    0.010</td> <td>   37.510</td> <td> 0.000</td> <td>    0.346</td> <td>    0.384</td>\n",
       "</tr>\n",
       "<tr>\n",
       "  <th>C(hr)[T.10]:C(day_of_week)[4]</th>         <td>    0.3622</td> <td>    0.010</td> <td>   36.224</td> <td> 0.000</td> <td>    0.343</td> <td>    0.382</td>\n",
       "</tr>\n",
       "<tr>\n",
       "  <th>C(hr)[T.11]:C(day_of_week)[4]</th>         <td>    0.3634</td> <td>    0.010</td> <td>   36.571</td> <td> 0.000</td> <td>    0.344</td> <td>    0.383</td>\n",
       "</tr>\n",
       "<tr>\n",
       "  <th>C(hr)[T.12]:C(day_of_week)[4]</th>         <td>    0.3460</td> <td>    0.010</td> <td>   35.341</td> <td> 0.000</td> <td>    0.327</td> <td>    0.365</td>\n",
       "</tr>\n",
       "<tr>\n",
       "  <th>C(hr)[T.13]:C(day_of_week)[4]</th>         <td>    0.2909</td> <td>    0.010</td> <td>   29.722</td> <td> 0.000</td> <td>    0.272</td> <td>    0.310</td>\n",
       "</tr>\n",
       "<tr>\n",
       "  <th>C(hr)[T.14]:C(day_of_week)[4]</th>         <td>    0.3299</td> <td>    0.010</td> <td>   34.333</td> <td> 0.000</td> <td>    0.311</td> <td>    0.349</td>\n",
       "</tr>\n",
       "<tr>\n",
       "  <th>C(hr)[T.15]:C(day_of_week)[4]</th>         <td>    0.3636</td> <td>    0.010</td> <td>   37.297</td> <td> 0.000</td> <td>    0.344</td> <td>    0.383</td>\n",
       "</tr>\n",
       "<tr>\n",
       "  <th>C(hr)[T.16]:C(day_of_week)[4]</th>         <td>    0.3052</td> <td>    0.010</td> <td>   30.339</td> <td> 0.000</td> <td>    0.286</td> <td>    0.325</td>\n",
       "</tr>\n",
       "<tr>\n",
       "  <th>C(hr)[T.17]:C(day_of_week)[4]</th>         <td>    0.2908</td> <td>    0.010</td> <td>   30.359</td> <td> 0.000</td> <td>    0.272</td> <td>    0.310</td>\n",
       "</tr>\n",
       "<tr>\n",
       "  <th>C(hr)[T.18]:C(day_of_week)[4]</th>         <td>    0.2904</td> <td>    0.009</td> <td>   31.646</td> <td> 0.000</td> <td>    0.272</td> <td>    0.308</td>\n",
       "</tr>\n",
       "<tr>\n",
       "  <th>C(hr)[T.19]:C(day_of_week)[4]</th>         <td>    0.2505</td> <td>    0.009</td> <td>   27.497</td> <td> 0.000</td> <td>    0.233</td> <td>    0.268</td>\n",
       "</tr>\n",
       "<tr>\n",
       "  <th>C(hr)[T.20]:C(day_of_week)[4]</th>         <td>    0.1924</td> <td>    0.009</td> <td>   20.749</td> <td> 0.000</td> <td>    0.174</td> <td>    0.211</td>\n",
       "</tr>\n",
       "<tr>\n",
       "  <th>C(hr)[T.21]:C(day_of_week)[4]</th>         <td>    0.1628</td> <td>    0.009</td> <td>   17.466</td> <td> 0.000</td> <td>    0.144</td> <td>    0.181</td>\n",
       "</tr>\n",
       "<tr>\n",
       "  <th>C(hr)[T.22]:C(day_of_week)[4]</th>         <td>    0.1811</td> <td>    0.009</td> <td>   19.577</td> <td> 0.000</td> <td>    0.163</td> <td>    0.199</td>\n",
       "</tr>\n",
       "<tr>\n",
       "  <th>C(hr)[T.23]:C(day_of_week)[4]</th>         <td>    0.1751</td> <td>    0.009</td> <td>   18.889</td> <td> 0.000</td> <td>    0.157</td> <td>    0.193</td>\n",
       "</tr>\n",
       "<tr>\n",
       "  <th>C(hr)[T.1]:C(day_of_week)[5]</th>          <td>   -0.0704</td> <td>    0.009</td> <td>   -7.809</td> <td> 0.000</td> <td>   -0.088</td> <td>   -0.053</td>\n",
       "</tr>\n",
       "<tr>\n",
       "  <th>C(hr)[T.2]:C(day_of_week)[5]</th>          <td>   -0.1048</td> <td>    0.010</td> <td>  -11.020</td> <td> 0.000</td> <td>   -0.123</td> <td>   -0.086</td>\n",
       "</tr>\n",
       "<tr>\n",
       "  <th>C(hr)[T.3]:C(day_of_week)[5]</th>          <td>   -0.1597</td> <td>    0.011</td> <td>  -15.145</td> <td> 0.000</td> <td>   -0.180</td> <td>   -0.139</td>\n",
       "</tr>\n",
       "<tr>\n",
       "  <th>C(hr)[T.4]:C(day_of_week)[5]</th>          <td>   -0.1935</td> <td>    0.012</td> <td>  -15.569</td> <td> 0.000</td> <td>   -0.218</td> <td>   -0.169</td>\n",
       "</tr>\n",
       "<tr>\n",
       "  <th>C(hr)[T.5]:C(day_of_week)[5]</th>          <td>   -0.3296</td> <td>    0.017</td> <td>  -19.958</td> <td> 0.000</td> <td>   -0.362</td> <td>   -0.297</td>\n",
       "</tr>\n",
       "<tr>\n",
       "  <th>C(hr)[T.6]:C(day_of_week)[5]</th>          <td>   -0.3763</td> <td>    0.015</td> <td>  -25.531</td> <td> 0.000</td> <td>   -0.405</td> <td>   -0.347</td>\n",
       "</tr>\n",
       "<tr>\n",
       "  <th>C(hr)[T.7]:C(day_of_week)[5]</th>          <td>   -0.2919</td> <td>    0.013</td> <td>  -22.923</td> <td> 0.000</td> <td>   -0.317</td> <td>   -0.267</td>\n",
       "</tr>\n",
       "<tr>\n",
       "  <th>C(hr)[T.8]:C(day_of_week)[5]</th>          <td>   -0.1946</td> <td>    0.011</td> <td>  -17.773</td> <td> 0.000</td> <td>   -0.216</td> <td>   -0.173</td>\n",
       "</tr>\n",
       "<tr>\n",
       "  <th>C(hr)[T.9]:C(day_of_week)[5]</th>          <td>   -0.1205</td> <td>    0.010</td> <td>  -12.435</td> <td> 0.000</td> <td>   -0.140</td> <td>   -0.102</td>\n",
       "</tr>\n",
       "<tr>\n",
       "  <th>C(hr)[T.10]:C(day_of_week)[5]</th>         <td>   -0.0611</td> <td>    0.009</td> <td>   -6.662</td> <td> 0.000</td> <td>   -0.079</td> <td>   -0.043</td>\n",
       "</tr>\n",
       "<tr>\n",
       "  <th>C(hr)[T.11]:C(day_of_week)[5]</th>         <td>    0.0143</td> <td>    0.009</td> <td>    1.587</td> <td> 0.113</td> <td>   -0.003</td> <td>    0.032</td>\n",
       "</tr>\n",
       "<tr>\n",
       "  <th>C(hr)[T.12]:C(day_of_week)[5]</th>         <td>    0.0616</td> <td>    0.009</td> <td>    7.045</td> <td> 0.000</td> <td>    0.044</td> <td>    0.079</td>\n",
       "</tr>\n",
       "<tr>\n",
       "  <th>C(hr)[T.13]:C(day_of_week)[5]</th>         <td>    0.1212</td> <td>    0.009</td> <td>   13.862</td> <td> 0.000</td> <td>    0.104</td> <td>    0.138</td>\n",
       "</tr>\n",
       "<tr>\n",
       "  <th>C(hr)[T.14]:C(day_of_week)[5]</th>         <td>    0.1043</td> <td>    0.009</td> <td>   11.823</td> <td> 0.000</td> <td>    0.087</td> <td>    0.122</td>\n",
       "</tr>\n",
       "<tr>\n",
       "  <th>C(hr)[T.15]:C(day_of_week)[5]</th>         <td>    0.1159</td> <td>    0.009</td> <td>   13.165</td> <td> 0.000</td> <td>    0.099</td> <td>    0.133</td>\n",
       "</tr>\n",
       "<tr>\n",
       "  <th>C(hr)[T.16]:C(day_of_week)[5]</th>         <td>    0.1164</td> <td>    0.009</td> <td>   12.969</td> <td> 0.000</td> <td>    0.099</td> <td>    0.134</td>\n",
       "</tr>\n",
       "<tr>\n",
       "  <th>C(hr)[T.17]:C(day_of_week)[5]</th>         <td>    0.1359</td> <td>    0.009</td> <td>   15.657</td> <td> 0.000</td> <td>    0.119</td> <td>    0.153</td>\n",
       "</tr>\n",
       "<tr>\n",
       "  <th>C(hr)[T.18]:C(day_of_week)[5]</th>         <td>    0.1613</td> <td>    0.008</td> <td>   19.112</td> <td> 0.000</td> <td>    0.145</td> <td>    0.178</td>\n",
       "</tr>\n",
       "<tr>\n",
       "  <th>C(hr)[T.19]:C(day_of_week)[5]</th>         <td>    0.1937</td> <td>    0.008</td> <td>   23.047</td> <td> 0.000</td> <td>    0.177</td> <td>    0.210</td>\n",
       "</tr>\n",
       "<tr>\n",
       "  <th>C(hr)[T.20]:C(day_of_week)[5]</th>         <td>    0.1282</td> <td>    0.009</td> <td>   14.677</td> <td> 0.000</td> <td>    0.111</td> <td>    0.145</td>\n",
       "</tr>\n",
       "<tr>\n",
       "  <th>C(hr)[T.21]:C(day_of_week)[5]</th>         <td>    0.0914</td> <td>    0.009</td> <td>   10.499</td> <td> 0.000</td> <td>    0.074</td> <td>    0.108</td>\n",
       "</tr>\n",
       "<tr>\n",
       "  <th>C(hr)[T.22]:C(day_of_week)[5]</th>         <td>    0.1102</td> <td>    0.009</td> <td>   12.914</td> <td> 0.000</td> <td>    0.094</td> <td>    0.127</td>\n",
       "</tr>\n",
       "<tr>\n",
       "  <th>C(hr)[T.23]:C(day_of_week)[5]</th>         <td>    0.0777</td> <td>    0.008</td> <td>    9.269</td> <td> 0.000</td> <td>    0.061</td> <td>    0.094</td>\n",
       "</tr>\n",
       "<tr>\n",
       "  <th>C(hr)[T.1]:C(day_of_week)[6]</th>          <td>   -0.0408</td> <td>    0.009</td> <td>   -4.531</td> <td> 0.000</td> <td>   -0.058</td> <td>   -0.023</td>\n",
       "</tr>\n",
       "<tr>\n",
       "  <th>C(hr)[T.2]:C(day_of_week)[6]</th>          <td>   -0.1177</td> <td>    0.010</td> <td>  -12.195</td> <td> 0.000</td> <td>   -0.137</td> <td>   -0.099</td>\n",
       "</tr>\n",
       "<tr>\n",
       "  <th>C(hr)[T.3]:C(day_of_week)[6]</th>          <td>   -0.1500</td> <td>    0.010</td> <td>  -14.563</td> <td> 0.000</td> <td>   -0.170</td> <td>   -0.130</td>\n",
       "</tr>\n",
       "<tr>\n",
       "  <th>C(hr)[T.4]:C(day_of_week)[6]</th>          <td>   -0.1981</td> <td>    0.012</td> <td>  -16.667</td> <td> 0.000</td> <td>   -0.221</td> <td>   -0.175</td>\n",
       "</tr>\n",
       "<tr>\n",
       "  <th>C(hr)[T.5]:C(day_of_week)[6]</th>          <td>   -0.3104</td> <td>    0.017</td> <td>  -18.684</td> <td> 0.000</td> <td>   -0.343</td> <td>   -0.278</td>\n",
       "</tr>\n",
       "<tr>\n",
       "  <th>C(hr)[T.6]:C(day_of_week)[6]</th>          <td>   -0.3766</td> <td>    0.016</td> <td>  -23.670</td> <td> 0.000</td> <td>   -0.408</td> <td>   -0.345</td>\n",
       "</tr>\n",
       "<tr>\n",
       "  <th>C(hr)[T.7]:C(day_of_week)[6]</th>          <td>   -0.3293</td> <td>    0.014</td> <td>  -22.970</td> <td> 0.000</td> <td>   -0.357</td> <td>   -0.301</td>\n",
       "</tr>\n",
       "<tr>\n",
       "  <th>C(hr)[T.8]:C(day_of_week)[6]</th>          <td>   -0.2908</td> <td>    0.012</td> <td>  -23.930</td> <td> 0.000</td> <td>   -0.315</td> <td>   -0.267</td>\n",
       "</tr>\n",
       "<tr>\n",
       "  <th>C(hr)[T.9]:C(day_of_week)[6]</th>          <td>   -0.2356</td> <td>    0.011</td> <td>  -22.103</td> <td> 0.000</td> <td>   -0.256</td> <td>   -0.215</td>\n",
       "</tr>\n",
       "<tr>\n",
       "  <th>C(hr)[T.10]:C(day_of_week)[6]</th>         <td>   -0.1585</td> <td>    0.010</td> <td>  -16.452</td> <td> 0.000</td> <td>   -0.177</td> <td>   -0.140</td>\n",
       "</tr>\n",
       "<tr>\n",
       "  <th>C(hr)[T.11]:C(day_of_week)[6]</th>         <td>   -0.0817</td> <td>    0.009</td> <td>   -8.875</td> <td> 0.000</td> <td>   -0.100</td> <td>   -0.064</td>\n",
       "</tr>\n",
       "<tr>\n",
       "  <th>C(hr)[T.12]:C(day_of_week)[6]</th>         <td>   -0.0108</td> <td>    0.009</td> <td>   -1.190</td> <td> 0.234</td> <td>   -0.029</td> <td>    0.007</td>\n",
       "</tr>\n",
       "<tr>\n",
       "  <th>C(hr)[T.13]:C(day_of_week)[6]</th>         <td>    0.0430</td> <td>    0.009</td> <td>    4.754</td> <td> 0.000</td> <td>    0.025</td> <td>    0.061</td>\n",
       "</tr>\n",
       "<tr>\n",
       "  <th>C(hr)[T.14]:C(day_of_week)[6]</th>         <td>    0.0667</td> <td>    0.009</td> <td>    7.369</td> <td> 0.000</td> <td>    0.049</td> <td>    0.084</td>\n",
       "</tr>\n",
       "<tr>\n",
       "  <th>C(hr)[T.15]:C(day_of_week)[6]</th>         <td>    0.0781</td> <td>    0.009</td> <td>    8.549</td> <td> 0.000</td> <td>    0.060</td> <td>    0.096</td>\n",
       "</tr>\n",
       "<tr>\n",
       "  <th>C(hr)[T.16]:C(day_of_week)[6]</th>         <td>    0.0756</td> <td>    0.009</td> <td>    8.234</td> <td> 0.000</td> <td>    0.058</td> <td>    0.094</td>\n",
       "</tr>\n",
       "<tr>\n",
       "  <th>C(hr)[T.17]:C(day_of_week)[6]</th>         <td>    0.0768</td> <td>    0.009</td> <td>    8.554</td> <td> 0.000</td> <td>    0.059</td> <td>    0.094</td>\n",
       "</tr>\n",
       "<tr>\n",
       "  <th>C(hr)[T.18]:C(day_of_week)[6]</th>         <td>    0.0491</td> <td>    0.009</td> <td>    5.479</td> <td> 0.000</td> <td>    0.032</td> <td>    0.067</td>\n",
       "</tr>\n",
       "<tr>\n",
       "  <th>C(hr)[T.19]:C(day_of_week)[6]</th>         <td>   -0.0071</td> <td>    0.009</td> <td>   -0.767</td> <td> 0.443</td> <td>   -0.025</td> <td>    0.011</td>\n",
       "</tr>\n",
       "<tr>\n",
       "  <th>C(hr)[T.20]:C(day_of_week)[6]</th>         <td>   -0.0662</td> <td>    0.009</td> <td>   -6.978</td> <td> 0.000</td> <td>   -0.085</td> <td>   -0.048</td>\n",
       "</tr>\n",
       "<tr>\n",
       "  <th>C(hr)[T.21]:C(day_of_week)[6]</th>         <td>   -0.1198</td> <td>    0.010</td> <td>  -12.466</td> <td> 0.000</td> <td>   -0.139</td> <td>   -0.101</td>\n",
       "</tr>\n",
       "<tr>\n",
       "  <th>C(hr)[T.22]:C(day_of_week)[6]</th>         <td>   -0.1496</td> <td>    0.010</td> <td>  -15.050</td> <td> 0.000</td> <td>   -0.169</td> <td>   -0.130</td>\n",
       "</tr>\n",
       "<tr>\n",
       "  <th>C(hr)[T.23]:C(day_of_week)[6]</th>         <td>   -0.1966</td> <td>    0.011</td> <td>  -18.245</td> <td> 0.000</td> <td>   -0.218</td> <td>   -0.175</td>\n",
       "</tr>\n",
       "<tr>\n",
       "  <th>I(np.log(distance + 0.1))</th>             <td>    1.2975</td> <td>    0.006</td> <td>  200.871</td> <td> 0.000</td> <td>    1.285</td> <td>    1.310</td>\n",
       "</tr>\n",
       "<tr>\n",
       "  <th>I(np.log(dummy_manhattan_dist + 0.1))</th> <td>   -0.5541</td> <td>    0.006</td> <td>  -89.221</td> <td> 0.000</td> <td>   -0.566</td> <td>   -0.542</td>\n",
       "</tr>\n",
       "<tr>\n",
       "  <th>scale(bearing)</th>                        <td>    0.0289</td> <td>    0.001</td> <td>   48.884</td> <td> 0.000</td> <td>    0.028</td> <td>    0.030</td>\n",
       "</tr>\n",
       "</table>\n",
       "<table class=\"simpletable\">\n",
       "<tr>\n",
       "  <th>Omnibus:</th>       <td>361412.732</td> <th>  Durbin-Watson:     </th>   <td>   1.953</td>  \n",
       "</tr>\n",
       "<tr>\n",
       "  <th>Prob(Omnibus):</th>   <td> 0.000</td>   <th>  Jarque-Bera (JB):  </th> <td>14598236.740</td>\n",
       "</tr>\n",
       "<tr>\n",
       "  <th>Skew:</th>            <td> 1.812</td>   <th>  Prob(JB):          </th>   <td>    0.00</td>  \n",
       "</tr>\n",
       "<tr>\n",
       "  <th>Kurtosis:</th>        <td>25.048</td>   <th>  Cond. No.          </th>   <td>    417.</td>  \n",
       "</tr>\n",
       "</table>"
      ],
      "text/plain": [
       "<class 'statsmodels.iolib.summary.Summary'>\n",
       "\"\"\"\n",
       "                               OLS Regression Results                               \n",
       "====================================================================================\n",
       "Dep. Variable:     I(np.log(trip_duration))   R-squared:                       0.645\n",
       "Model:                                  OLS   Adj. R-squared:                  0.645\n",
       "Method:                       Least Squares   F-statistic:                     7053.\n",
       "Date:                      Wed, 25 Oct 2017   Prob (F-statistic):               0.00\n",
       "Time:                              13:49:45   Log-Likelihood:            -4.6671e+05\n",
       "No. Observations:                    701778   AIC:                         9.338e+05\n",
       "Df Residuals:                        701596   BIC:                         9.359e+05\n",
       "Df Model:                               181                                         \n",
       "Covariance Type:                  nonrobust                                         \n",
       "=========================================================================================================\n",
       "                                            coef    std err          t      P>|t|      [0.025      0.975]\n",
       "---------------------------------------------------------------------------------------------------------\n",
       "Intercept                                 5.5694      0.022    248.635      0.000       5.526       5.613\n",
       "C(pickup_Province)[T.Brooklyn]           -0.1857      0.021     -9.023      0.000      -0.226      -0.145\n",
       "C(pickup_Province)[T.Manhattan]          -0.1308      0.020     -6.512      0.000      -0.170      -0.091\n",
       "C(pickup_Province)[T.Queens]             -0.2670      0.020    -13.165      0.000      -0.307      -0.227\n",
       "C(pickup_Province)[T.Staten Island]       1.5343      0.094     16.261      0.000       1.349       1.719\n",
       "C(pickup_Province)[T.outward]            -0.2828      0.029     -9.793      0.000      -0.339      -0.226\n",
       "C(dropoff_Province)[T.Brooklyn]           0.2221      0.008     28.733      0.000       0.207       0.237\n",
       "C(dropoff_Province)[T.Manhattan]          0.2013      0.008     26.390      0.000       0.186       0.216\n",
       "C(dropoff_Province)[T.Queens]             0.0879      0.008     11.363      0.000       0.073       0.103\n",
       "C(dropoff_Province)[T.Staten Island]      0.1167      0.038      3.093      0.002       0.043       0.191\n",
       "C(dropoff_Province)[T.outward]           -0.0158      0.012     -1.340      0.180      -0.039       0.007\n",
       "C(pickup_dropoff_same_Province)[T.1]     -0.0457      0.003    -15.761      0.000      -0.051      -0.040\n",
       "C(day_of_week)[T.1]                       0.0559      0.015      3.764      0.000       0.027       0.085\n",
       "C(day_of_week)[T.2]                       0.0857      0.014      5.997      0.000       0.058       0.114\n",
       "C(day_of_week)[T.3]                       0.0962      0.014      6.993      0.000       0.069       0.123\n",
       "C(day_of_week)[T.4]                       0.1755      0.013     13.774      0.000       0.151       0.200\n",
       "C(day_of_week)[T.5]                       0.2757      0.012     22.735      0.000       0.252       0.299\n",
       "C(day_of_week)[T.6]                       0.2730      0.012     22.419      0.000       0.249       0.297\n",
       "C(hr)[T.1]:C(day_of_week)[0]             -0.0309      0.017     -1.766      0.077      -0.065       0.003\n",
       "C(hr)[T.2]:C(day_of_week)[0]             -0.0095      0.021     -0.461      0.645      -0.050       0.031\n",
       "C(hr)[T.3]:C(day_of_week)[0]              0.0063      0.023      0.274      0.784      -0.039       0.052\n",
       "C(hr)[T.4]:C(day_of_week)[0]             -0.0814      0.022     -3.710      0.000      -0.124      -0.038\n",
       "C(hr)[T.5]:C(day_of_week)[0]             -0.0884      0.018     -4.813      0.000      -0.124      -0.052\n",
       "C(hr)[T.6]:C(day_of_week)[0]              0.0050      0.014      0.353      0.724      -0.023       0.033\n",
       "C(hr)[T.7]:C(day_of_week)[0]              0.2567      0.013     20.080      0.000       0.232       0.282\n",
       "C(hr)[T.8]:C(day_of_week)[0]              0.4490      0.012     36.107      0.000       0.425       0.473\n",
       "C(hr)[T.9]:C(day_of_week)[0]              0.4971      0.012     39.883      0.000       0.473       0.522\n",
       "C(hr)[T.10]:C(day_of_week)[0]             0.4882      0.013     38.053      0.000       0.463       0.513\n",
       "C(hr)[T.11]:C(day_of_week)[0]             0.4771      0.013     37.358      0.000       0.452       0.502\n",
       "C(hr)[T.12]:C(day_of_week)[0]             0.4686      0.013     36.915      0.000       0.444       0.493\n",
       "C(hr)[T.13]:C(day_of_week)[0]             0.4315      0.013     33.899      0.000       0.407       0.456\n",
       "C(hr)[T.14]:C(day_of_week)[0]             0.4387      0.013     35.021      0.000       0.414       0.463\n",
       "C(hr)[T.15]:C(day_of_week)[0]             0.4532      0.013     36.026      0.000       0.429       0.478\n",
       "C(hr)[T.16]:C(day_of_week)[0]             0.4034      0.013     31.725      0.000       0.378       0.428\n",
       "C(hr)[T.17]:C(day_of_week)[0]             0.4112      0.012     33.200      0.000       0.387       0.436\n",
       "C(hr)[T.18]:C(day_of_week)[0]             0.3836      0.012     31.831      0.000       0.360       0.407\n",
       "C(hr)[T.19]:C(day_of_week)[0]             0.2611      0.012     21.498      0.000       0.237       0.285\n",
       "C(hr)[T.20]:C(day_of_week)[0]             0.1865      0.012     15.180      0.000       0.162       0.211\n",
       "C(hr)[T.21]:C(day_of_week)[0]             0.1555      0.012     12.584      0.000       0.131       0.180\n",
       "C(hr)[T.22]:C(day_of_week)[0]             0.1397      0.013     11.022      0.000       0.115       0.165\n",
       "C(hr)[T.23]:C(day_of_week)[0]             0.0795      0.013      5.911      0.000       0.053       0.106\n",
       "C(hr)[T.1]:C(day_of_week)[1]             -0.0429      0.017     -2.464      0.014      -0.077      -0.009\n",
       "C(hr)[T.2]:C(day_of_week)[1]             -0.0594      0.021     -2.845      0.004      -0.100      -0.018\n",
       "C(hr)[T.3]:C(day_of_week)[1]             -0.1001      0.025     -4.041      0.000      -0.149      -0.052\n",
       "C(hr)[T.4]:C(day_of_week)[1]             -0.1462      0.023     -6.271      0.000      -0.192      -0.101\n",
       "C(hr)[T.5]:C(day_of_week)[1]             -0.1662      0.018     -9.062      0.000      -0.202      -0.130\n",
       "C(hr)[T.6]:C(day_of_week)[1]             -0.0289      0.014     -2.081      0.037      -0.056      -0.002\n",
       "C(hr)[T.7]:C(day_of_week)[1]              0.2439      0.013     19.413      0.000       0.219       0.269\n",
       "C(hr)[T.8]:C(day_of_week)[1]              0.4641      0.012     37.721      0.000       0.440       0.488\n",
       "C(hr)[T.9]:C(day_of_week)[1]              0.5315      0.012     42.831      0.000       0.507       0.556\n",
       "C(hr)[T.10]:C(day_of_week)[1]             0.5386      0.013     42.491      0.000       0.514       0.563\n",
       "C(hr)[T.11]:C(day_of_week)[1]             0.5510      0.013     43.548      0.000       0.526       0.576\n",
       "C(hr)[T.12]:C(day_of_week)[1]             0.5369      0.013     42.550      0.000       0.512       0.562\n",
       "C(hr)[T.13]:C(day_of_week)[1]             0.5151      0.013     40.828      0.000       0.490       0.540\n",
       "C(hr)[T.14]:C(day_of_week)[1]             0.5002      0.012     40.087      0.000       0.476       0.525\n",
       "C(hr)[T.15]:C(day_of_week)[1]             0.4854      0.013     38.690      0.000       0.461       0.510\n",
       "C(hr)[T.16]:C(day_of_week)[1]             0.4520      0.013     35.367      0.000       0.427       0.477\n",
       "C(hr)[T.17]:C(day_of_week)[1]             0.4486      0.012     36.195      0.000       0.424       0.473\n",
       "C(hr)[T.18]:C(day_of_week)[1]             0.4214      0.012     34.893      0.000       0.398       0.445\n",
       "C(hr)[T.19]:C(day_of_week)[1]             0.2867      0.012     23.701      0.000       0.263       0.310\n",
       "C(hr)[T.20]:C(day_of_week)[1]             0.1970      0.012     16.251      0.000       0.173       0.221\n",
       "C(hr)[T.21]:C(day_of_week)[1]             0.1629      0.012     13.391      0.000       0.139       0.187\n",
       "C(hr)[T.22]:C(day_of_week)[1]             0.1544      0.012     12.511      0.000       0.130       0.179\n",
       "C(hr)[T.23]:C(day_of_week)[1]             0.0665      0.013      5.154      0.000       0.041       0.092\n",
       "C(hr)[T.1]:C(day_of_week)[2]             -0.0740      0.016     -4.653      0.000      -0.105      -0.043\n",
       "C(hr)[T.2]:C(day_of_week)[2]             -0.1027      0.018     -5.577      0.000      -0.139      -0.067\n",
       "C(hr)[T.3]:C(day_of_week)[2]             -0.1204      0.022     -5.598      0.000      -0.163      -0.078\n",
       "C(hr)[T.4]:C(day_of_week)[2]             -0.1634      0.022     -7.368      0.000      -0.207      -0.120\n",
       "C(hr)[T.5]:C(day_of_week)[2]             -0.1966      0.018    -11.076      0.000      -0.231      -0.162\n",
       "C(hr)[T.6]:C(day_of_week)[2]             -0.0729      0.013     -5.488      0.000      -0.099      -0.047\n",
       "C(hr)[T.7]:C(day_of_week)[2]              0.2220      0.012     18.818      0.000       0.199       0.245\n",
       "C(hr)[T.8]:C(day_of_week)[2]              0.4173      0.012     36.246      0.000       0.395       0.440\n",
       "C(hr)[T.9]:C(day_of_week)[2]              0.4872      0.012     41.574      0.000       0.464       0.510\n",
       "C(hr)[T.10]:C(day_of_week)[2]             0.4971      0.012     41.674      0.000       0.474       0.520\n",
       "C(hr)[T.11]:C(day_of_week)[2]             0.5301      0.012     44.307      0.000       0.507       0.554\n",
       "C(hr)[T.12]:C(day_of_week)[2]             0.5243      0.012     44.292      0.000       0.501       0.548\n",
       "C(hr)[T.13]:C(day_of_week)[2]             0.5069      0.012     42.709      0.000       0.484       0.530\n",
       "C(hr)[T.14]:C(day_of_week)[2]             0.4850      0.012     41.239      0.000       0.462       0.508\n",
       "C(hr)[T.15]:C(day_of_week)[2]             0.4741      0.012     40.059      0.000       0.451       0.497\n",
       "C(hr)[T.16]:C(day_of_week)[2]             0.4095      0.012     33.976      0.000       0.386       0.433\n",
       "C(hr)[T.17]:C(day_of_week)[2]             0.4370      0.012     37.392      0.000       0.414       0.460\n",
       "C(hr)[T.18]:C(day_of_week)[2]             0.3972      0.011     35.014      0.000       0.375       0.419\n",
       "C(hr)[T.19]:C(day_of_week)[2]             0.2901      0.011     25.585      0.000       0.268       0.312\n",
       "C(hr)[T.20]:C(day_of_week)[2]             0.2026      0.011     17.834      0.000       0.180       0.225\n",
       "C(hr)[T.21]:C(day_of_week)[2]             0.1622      0.011     14.280      0.000       0.140       0.184\n",
       "C(hr)[T.22]:C(day_of_week)[2]             0.1463      0.012     12.698      0.000       0.124       0.169\n",
       "C(hr)[T.23]:C(day_of_week)[2]             0.0918      0.012      7.650      0.000       0.068       0.115\n",
       "C(hr)[T.1]:C(day_of_week)[3]             -0.0632      0.015     -4.327      0.000      -0.092      -0.035\n",
       "C(hr)[T.2]:C(day_of_week)[3]             -0.0931      0.017     -5.326      0.000      -0.127      -0.059\n",
       "C(hr)[T.3]:C(day_of_week)[3]             -0.1345      0.020     -6.776      0.000      -0.173      -0.096\n",
       "C(hr)[T.4]:C(day_of_week)[3]             -0.1664      0.021     -8.076      0.000      -0.207      -0.126\n",
       "C(hr)[T.5]:C(day_of_week)[3]             -0.1965      0.017    -11.533      0.000      -0.230      -0.163\n",
       "C(hr)[T.6]:C(day_of_week)[3]             -0.0728      0.013     -5.769      0.000      -0.097      -0.048\n",
       "C(hr)[T.7]:C(day_of_week)[3]              0.2103      0.011     18.855      0.000       0.188       0.232\n",
       "C(hr)[T.8]:C(day_of_week)[3]              0.4287      0.011     39.388      0.000       0.407       0.450\n",
       "C(hr)[T.9]:C(day_of_week)[3]              0.4782      0.011     43.181      0.000       0.456       0.500\n",
       "C(hr)[T.10]:C(day_of_week)[3]             0.4824      0.011     42.868      0.000       0.460       0.505\n",
       "C(hr)[T.11]:C(day_of_week)[3]             0.5133      0.011     45.667      0.000       0.491       0.535\n",
       "C(hr)[T.12]:C(day_of_week)[3]             0.5107      0.011     45.782      0.000       0.489       0.533\n",
       "C(hr)[T.13]:C(day_of_week)[3]             0.4708      0.011     42.033      0.000       0.449       0.493\n",
       "C(hr)[T.14]:C(day_of_week)[3]             0.4872      0.011     44.157      0.000       0.466       0.509\n",
       "C(hr)[T.15]:C(day_of_week)[3]             0.4749      0.011     42.736      0.000       0.453       0.497\n",
       "C(hr)[T.16]:C(day_of_week)[3]             0.4271      0.011     37.200      0.000       0.405       0.450\n",
       "C(hr)[T.17]:C(day_of_week)[3]             0.4063      0.011     36.742      0.000       0.385       0.428\n",
       "C(hr)[T.18]:C(day_of_week)[3]             0.4090      0.011     38.442      0.000       0.388       0.430\n",
       "C(hr)[T.19]:C(day_of_week)[3]             0.3180      0.011     29.964      0.000       0.297       0.339\n",
       "C(hr)[T.20]:C(day_of_week)[3]             0.2392      0.011     22.482      0.000       0.218       0.260\n",
       "C(hr)[T.21]:C(day_of_week)[3]             0.1991      0.011     18.800      0.000       0.178       0.220\n",
       "C(hr)[T.22]:C(day_of_week)[3]             0.1904      0.011     17.817      0.000       0.169       0.211\n",
       "C(hr)[T.23]:C(day_of_week)[3]             0.1296      0.011     11.863      0.000       0.108       0.151\n",
       "C(hr)[T.1]:C(day_of_week)[4]             -0.0400      0.011     -3.503      0.000      -0.062      -0.018\n",
       "C(hr)[T.2]:C(day_of_week)[4]             -0.0864      0.013     -6.768      0.000      -0.111      -0.061\n",
       "C(hr)[T.3]:C(day_of_week)[4]             -0.1058      0.014     -7.505      0.000      -0.133      -0.078\n",
       "C(hr)[T.4]:C(day_of_week)[4]             -0.1548      0.016     -9.868      0.000      -0.186      -0.124\n",
       "C(hr)[T.5]:C(day_of_week)[4]             -0.2504      0.015    -16.252      0.000      -0.281      -0.220\n",
       "C(hr)[T.6]:C(day_of_week)[4]             -0.1586      0.012    -13.718      0.000      -0.181      -0.136\n",
       "C(hr)[T.7]:C(day_of_week)[4]              0.1036      0.010     10.484      0.000       0.084       0.123\n",
       "C(hr)[T.8]:C(day_of_week)[4]              0.3081      0.010     32.070      0.000       0.289       0.327\n",
       "C(hr)[T.9]:C(day_of_week)[4]              0.3649      0.010     37.510      0.000       0.346       0.384\n",
       "C(hr)[T.10]:C(day_of_week)[4]             0.3622      0.010     36.224      0.000       0.343       0.382\n",
       "C(hr)[T.11]:C(day_of_week)[4]             0.3634      0.010     36.571      0.000       0.344       0.383\n",
       "C(hr)[T.12]:C(day_of_week)[4]             0.3460      0.010     35.341      0.000       0.327       0.365\n",
       "C(hr)[T.13]:C(day_of_week)[4]             0.2909      0.010     29.722      0.000       0.272       0.310\n",
       "C(hr)[T.14]:C(day_of_week)[4]             0.3299      0.010     34.333      0.000       0.311       0.349\n",
       "C(hr)[T.15]:C(day_of_week)[4]             0.3636      0.010     37.297      0.000       0.344       0.383\n",
       "C(hr)[T.16]:C(day_of_week)[4]             0.3052      0.010     30.339      0.000       0.286       0.325\n",
       "C(hr)[T.17]:C(day_of_week)[4]             0.2908      0.010     30.359      0.000       0.272       0.310\n",
       "C(hr)[T.18]:C(day_of_week)[4]             0.2904      0.009     31.646      0.000       0.272       0.308\n",
       "C(hr)[T.19]:C(day_of_week)[4]             0.2505      0.009     27.497      0.000       0.233       0.268\n",
       "C(hr)[T.20]:C(day_of_week)[4]             0.1924      0.009     20.749      0.000       0.174       0.211\n",
       "C(hr)[T.21]:C(day_of_week)[4]             0.1628      0.009     17.466      0.000       0.144       0.181\n",
       "C(hr)[T.22]:C(day_of_week)[4]             0.1811      0.009     19.577      0.000       0.163       0.199\n",
       "C(hr)[T.23]:C(day_of_week)[4]             0.1751      0.009     18.889      0.000       0.157       0.193\n",
       "C(hr)[T.1]:C(day_of_week)[5]             -0.0704      0.009     -7.809      0.000      -0.088      -0.053\n",
       "C(hr)[T.2]:C(day_of_week)[5]             -0.1048      0.010    -11.020      0.000      -0.123      -0.086\n",
       "C(hr)[T.3]:C(day_of_week)[5]             -0.1597      0.011    -15.145      0.000      -0.180      -0.139\n",
       "C(hr)[T.4]:C(day_of_week)[5]             -0.1935      0.012    -15.569      0.000      -0.218      -0.169\n",
       "C(hr)[T.5]:C(day_of_week)[5]             -0.3296      0.017    -19.958      0.000      -0.362      -0.297\n",
       "C(hr)[T.6]:C(day_of_week)[5]             -0.3763      0.015    -25.531      0.000      -0.405      -0.347\n",
       "C(hr)[T.7]:C(day_of_week)[5]             -0.2919      0.013    -22.923      0.000      -0.317      -0.267\n",
       "C(hr)[T.8]:C(day_of_week)[5]             -0.1946      0.011    -17.773      0.000      -0.216      -0.173\n",
       "C(hr)[T.9]:C(day_of_week)[5]             -0.1205      0.010    -12.435      0.000      -0.140      -0.102\n",
       "C(hr)[T.10]:C(day_of_week)[5]            -0.0611      0.009     -6.662      0.000      -0.079      -0.043\n",
       "C(hr)[T.11]:C(day_of_week)[5]             0.0143      0.009      1.587      0.113      -0.003       0.032\n",
       "C(hr)[T.12]:C(day_of_week)[5]             0.0616      0.009      7.045      0.000       0.044       0.079\n",
       "C(hr)[T.13]:C(day_of_week)[5]             0.1212      0.009     13.862      0.000       0.104       0.138\n",
       "C(hr)[T.14]:C(day_of_week)[5]             0.1043      0.009     11.823      0.000       0.087       0.122\n",
       "C(hr)[T.15]:C(day_of_week)[5]             0.1159      0.009     13.165      0.000       0.099       0.133\n",
       "C(hr)[T.16]:C(day_of_week)[5]             0.1164      0.009     12.969      0.000       0.099       0.134\n",
       "C(hr)[T.17]:C(day_of_week)[5]             0.1359      0.009     15.657      0.000       0.119       0.153\n",
       "C(hr)[T.18]:C(day_of_week)[5]             0.1613      0.008     19.112      0.000       0.145       0.178\n",
       "C(hr)[T.19]:C(day_of_week)[5]             0.1937      0.008     23.047      0.000       0.177       0.210\n",
       "C(hr)[T.20]:C(day_of_week)[5]             0.1282      0.009     14.677      0.000       0.111       0.145\n",
       "C(hr)[T.21]:C(day_of_week)[5]             0.0914      0.009     10.499      0.000       0.074       0.108\n",
       "C(hr)[T.22]:C(day_of_week)[5]             0.1102      0.009     12.914      0.000       0.094       0.127\n",
       "C(hr)[T.23]:C(day_of_week)[5]             0.0777      0.008      9.269      0.000       0.061       0.094\n",
       "C(hr)[T.1]:C(day_of_week)[6]             -0.0408      0.009     -4.531      0.000      -0.058      -0.023\n",
       "C(hr)[T.2]:C(day_of_week)[6]             -0.1177      0.010    -12.195      0.000      -0.137      -0.099\n",
       "C(hr)[T.3]:C(day_of_week)[6]             -0.1500      0.010    -14.563      0.000      -0.170      -0.130\n",
       "C(hr)[T.4]:C(day_of_week)[6]             -0.1981      0.012    -16.667      0.000      -0.221      -0.175\n",
       "C(hr)[T.5]:C(day_of_week)[6]             -0.3104      0.017    -18.684      0.000      -0.343      -0.278\n",
       "C(hr)[T.6]:C(day_of_week)[6]             -0.3766      0.016    -23.670      0.000      -0.408      -0.345\n",
       "C(hr)[T.7]:C(day_of_week)[6]             -0.3293      0.014    -22.970      0.000      -0.357      -0.301\n",
       "C(hr)[T.8]:C(day_of_week)[6]             -0.2908      0.012    -23.930      0.000      -0.315      -0.267\n",
       "C(hr)[T.9]:C(day_of_week)[6]             -0.2356      0.011    -22.103      0.000      -0.256      -0.215\n",
       "C(hr)[T.10]:C(day_of_week)[6]            -0.1585      0.010    -16.452      0.000      -0.177      -0.140\n",
       "C(hr)[T.11]:C(day_of_week)[6]            -0.0817      0.009     -8.875      0.000      -0.100      -0.064\n",
       "C(hr)[T.12]:C(day_of_week)[6]            -0.0108      0.009     -1.190      0.234      -0.029       0.007\n",
       "C(hr)[T.13]:C(day_of_week)[6]             0.0430      0.009      4.754      0.000       0.025       0.061\n",
       "C(hr)[T.14]:C(day_of_week)[6]             0.0667      0.009      7.369      0.000       0.049       0.084\n",
       "C(hr)[T.15]:C(day_of_week)[6]             0.0781      0.009      8.549      0.000       0.060       0.096\n",
       "C(hr)[T.16]:C(day_of_week)[6]             0.0756      0.009      8.234      0.000       0.058       0.094\n",
       "C(hr)[T.17]:C(day_of_week)[6]             0.0768      0.009      8.554      0.000       0.059       0.094\n",
       "C(hr)[T.18]:C(day_of_week)[6]             0.0491      0.009      5.479      0.000       0.032       0.067\n",
       "C(hr)[T.19]:C(day_of_week)[6]            -0.0071      0.009     -0.767      0.443      -0.025       0.011\n",
       "C(hr)[T.20]:C(day_of_week)[6]            -0.0662      0.009     -6.978      0.000      -0.085      -0.048\n",
       "C(hr)[T.21]:C(day_of_week)[6]            -0.1198      0.010    -12.466      0.000      -0.139      -0.101\n",
       "C(hr)[T.22]:C(day_of_week)[6]            -0.1496      0.010    -15.050      0.000      -0.169      -0.130\n",
       "C(hr)[T.23]:C(day_of_week)[6]            -0.1966      0.011    -18.245      0.000      -0.218      -0.175\n",
       "I(np.log(distance + 0.1))                 1.2975      0.006    200.871      0.000       1.285       1.310\n",
       "I(np.log(dummy_manhattan_dist + 0.1))    -0.5541      0.006    -89.221      0.000      -0.566      -0.542\n",
       "scale(bearing)                            0.0289      0.001     48.884      0.000       0.028       0.030\n",
       "==============================================================================\n",
       "Omnibus:                   361412.732   Durbin-Watson:                   1.953\n",
       "Prob(Omnibus):                  0.000   Jarque-Bera (JB):         14598236.740\n",
       "Skew:                           1.812   Prob(JB):                         0.00\n",
       "Kurtosis:                      25.048   Cond. No.                         417.\n",
       "==============================================================================\n",
       "\n",
       "Warnings:\n",
       "[1] Standard Errors assume that the covariance matrix of the errors is correctly specified.\n",
       "\"\"\""
      ]
     },
     "execution_count": 15,
     "metadata": {},
     "output_type": "execute_result"
    }
   ],
   "source": [
    "formulaIs = 'I(np.log(trip_duration)) ~ I(np.log(distance+0.1)) +I(np.log(dummy_manhattan_dist+0.1)) +scale(bearing)+ C(pickup_Province) +C(dropoff_Province) +C(pickup_dropoff_same_Province)+C(hr):C(day_of_week)'\n",
    "fList = ['distance','dummy_manhattan_dist','bearing','pickup_Province','dropoff_Province','pickup_dropoff_same_Province','hr','day_of_week']\n",
    "modelFinal = sm.OLS.from_formula(formulaIs, data=train)\n",
    "result = modelFinal.fit()\n",
    "result.summary()"
   ]
  },
  {
   "cell_type": "markdown",
   "metadata": {},
   "source": [
    "#### 실제값과 회귀모델 식으로 구한 값사이의 연관성을 확인"
   ]
  },
  {
   "cell_type": "code",
   "execution_count": 16,
   "metadata": {},
   "outputs": [
    {
     "data": {
      "text/plain": [
       "<matplotlib.collections.PathCollection at 0x1c49d787b8>"
      ]
     },
     "execution_count": 16,
     "metadata": {},
     "output_type": "execute_result"
    },
    {
     "name": "stderr",
     "output_type": "stream",
     "text": [
      "/Users/hyunyoun/anaconda3/lib/python3.6/site-packages/matplotlib/font_manager.py:1316: UserWarning: findfont: Font family ['nanumgothic'] not found. Falling back to DejaVu Sans\n",
      "  (prop.get_family(), self.defaultFamily[fontext]))\n"
     ]
    },
    {
     "data": {
      "image/png": "[encoded data removed]",
      "text/plain": [
       "<matplotlib.figure.Figure at 0x1c18cdbb70>"
      ]
     },
     "metadata": {},
     "output_type": "display_data"
    }
   ],
   "source": [
    "y_new = result.predict(train[fList])\n",
    "y = train.apply(lambda x:np.log(x.trip_duration),axis=1)\n",
    "plt.scatter(y,y_new)"
   ]
  },
  {
   "cell_type": "markdown",
   "metadata": {},
   "source": [
    "#### Cross Validation을 통한 모델 검증"
   ]
  },
  {
   "cell_type": "code",
   "execution_count": 17,
   "metadata": {
    "collapsed": true
   },
   "outputs": [],
   "source": [
    "cv = KFold(n_splits=5, shuffle=True, random_state=0)"
   ]
  },
  {
   "cell_type": "code",
   "execution_count": 22,
   "metadata": {},
   "outputs": [
    {
     "name": "stdout",
     "output_type": "stream",
     "text": [
      "748471.52754339, 750516.8850630295, -374053.763771695, 0.644629756418138, 0.6445151494512642, 409.40993121510553\n",
      "0.465229321337\n",
      "745691.4871435165, 747736.844663156, -372663.74357175827, 0.6455010835280246, 0.6453867575642989, 448.2367342183364\n",
      "0.469900585471\n",
      "746155.5152342061, 748200.8727538455, -372895.75761710305, 0.6468820119087652, 0.6467681312946882, 408.4126108618555\n",
      "0.469330974036\n",
      "747628.2608815463, 749673.6187253622, -373632.13044077315, 0.6451020667235987, 0.6449876122808138, 405.3909170311225\n",
      "0.466710036158\n",
      "747350.4166726456, 749395.7745164615, -373493.2083363228, 0.6446972550685439, 0.6445826700741608, 417.9668254387614\n",
      "0.46717040592\n"
     ]
    },
    {
     "name": "stderr",
     "output_type": "stream",
     "text": [
      "/Users/hyunyoun/anaconda3/lib/python3.6/site-packages/matplotlib/font_manager.py:1316: UserWarning: findfont: Font family ['nanumgothic'] not found. Falling back to DejaVu Sans\n",
      "  (prop.get_family(), self.defaultFamily[fontext]))\n"
     ]
    },
    {
     "data": {
      "image/png": "[encoded data removed]",
      "text/plain": [
       "<matplotlib.figure.Figure at 0x1c1a8378d0>"
      ]
     },
     "metadata": {},
     "output_type": "display_data"
    }
   ],
   "source": [
    "for train_index, test_index in cv.split(train):\n",
    "    cTrainDe = train.loc[train_index][fList+['trip_duration']]\n",
    "    modelc = sm.OLS.from_formula(formulaIs,cTrainDe)\n",
    "    resultc = modelc.fit()\n",
    "    x = '{}, {}, {}, {}, {}, {}'.format(resultc.aic,resultc.bic,resultc.llf, resultc.rsquared, resultc.rsquared_adj, resultc.condition_number)\n",
    "    print (x)\n",
    "    cTest = train.loc[test_index][fList+['trip_duration']]\n",
    "    yc_new = resultc.predict(cTest[fList])\n",
    "    yc_newis = np.exp(yc_new)\n",
    "    rmsleIs = rmsle(cTest['trip_duration'],yc_newis)\n",
    "    print (rmsleIs)\n",
    "    yc = train.loc[test_index].apply(lambda x:np.log(x.trip_duration),axis=1)\n",
    "    plt.scatter(yc,yc_new) "
   ]
  },
  {
   "cell_type": "markdown",
   "metadata": {},
   "source": [
    "#### 종속변수에 대한 독립변수의 영향도를 F 검정을 사용하여 비교"
   ]
  },
  {
   "cell_type": "code",
   "execution_count": 23,
   "metadata": {
    "scrolled": true
   },
   "outputs": [
    {
     "data": {
      "text/html": [
       "<div>\n",
       "<style>\n",
       "    .dataframe thead tr:only-child th {\n",
       "        text-align: right;\n",
       "    }\n",
       "\n",
       "    .dataframe thead th {\n",
       "        text-align: left;\n",
       "    }\n",
       "\n",
       "    .dataframe tbody tr th {\n",
       "        vertical-align: top;\n",
       "    }\n",
       "</style>\n",
       "<table border=\"1\" class=\"dataframe\">\n",
       "  <thead>\n",
       "    <tr style=\"text-align: right;\">\n",
       "      <th></th>\n",
       "      <th>sum_sq</th>\n",
       "      <th>df</th>\n",
       "      <th>F</th>\n",
       "      <th>PR(&gt;F)</th>\n",
       "    </tr>\n",
       "  </thead>\n",
       "  <tbody>\n",
       "    <tr>\n",
       "      <th>C(pickup_Province)</th>\n",
       "      <td>629.395140</td>\n",
       "      <td>5.0</td>\n",
       "      <td>568.418082</td>\n",
       "      <td>0.000000e+00</td>\n",
       "    </tr>\n",
       "    <tr>\n",
       "      <th>C(dropoff_Province)</th>\n",
       "      <td>599.521756</td>\n",
       "      <td>5.0</td>\n",
       "      <td>541.438891</td>\n",
       "      <td>0.000000e+00</td>\n",
       "    </tr>\n",
       "    <tr>\n",
       "      <th>C(pickup_dropoff_same_Province)</th>\n",
       "      <td>55.014521</td>\n",
       "      <td>1.0</td>\n",
       "      <td>248.423023</td>\n",
       "      <td>5.859547e-56</td>\n",
       "    </tr>\n",
       "    <tr>\n",
       "      <th>C(hr):C(day_of_week)</th>\n",
       "      <td>20575.083109</td>\n",
       "      <td>167.0</td>\n",
       "      <td>556.339161</td>\n",
       "      <td>0.000000e+00</td>\n",
       "    </tr>\n",
       "    <tr>\n",
       "      <th>I(np.log(distance + 0.1))</th>\n",
       "      <td>8935.507488</td>\n",
       "      <td>1.0</td>\n",
       "      <td>40349.088385</td>\n",
       "      <td>0.000000e+00</td>\n",
       "    </tr>\n",
       "    <tr>\n",
       "      <th>I(np.log(dummy_manhattan_dist + 0.1))</th>\n",
       "      <td>1762.850300</td>\n",
       "      <td>1.0</td>\n",
       "      <td>7960.309212</td>\n",
       "      <td>0.000000e+00</td>\n",
       "    </tr>\n",
       "    <tr>\n",
       "      <th>scale(bearing)</th>\n",
       "      <td>529.191717</td>\n",
       "      <td>1.0</td>\n",
       "      <td>2389.612833</td>\n",
       "      <td>0.000000e+00</td>\n",
       "    </tr>\n",
       "    <tr>\n",
       "      <th>Residual</th>\n",
       "      <td>155371.944264</td>\n",
       "      <td>701596.0</td>\n",
       "      <td>NaN</td>\n",
       "      <td>NaN</td>\n",
       "    </tr>\n",
       "  </tbody>\n",
       "</table>\n",
       "</div>"
      ],
      "text/plain": [
       "                                              sum_sq        df             F  \\\n",
       "C(pickup_Province)                        629.395140       5.0    568.418082   \n",
       "C(dropoff_Province)                       599.521756       5.0    541.438891   \n",
       "C(pickup_dropoff_same_Province)            55.014521       1.0    248.423023   \n",
       "C(hr):C(day_of_week)                    20575.083109     167.0    556.339161   \n",
       "I(np.log(distance + 0.1))                8935.507488       1.0  40349.088385   \n",
       "I(np.log(dummy_manhattan_dist + 0.1))    1762.850300       1.0   7960.309212   \n",
       "scale(bearing)                            529.191717       1.0   2389.612833   \n",
       "Residual                               155371.944264  701596.0           NaN   \n",
       "\n",
       "                                             PR(>F)  \n",
       "C(pickup_Province)                     0.000000e+00  \n",
       "C(dropoff_Province)                    0.000000e+00  \n",
       "C(pickup_dropoff_same_Province)        5.859547e-56  \n",
       "C(hr):C(day_of_week)                   0.000000e+00  \n",
       "I(np.log(distance + 0.1))              0.000000e+00  \n",
       "I(np.log(dummy_manhattan_dist + 0.1))  0.000000e+00  \n",
       "scale(bearing)                         0.000000e+00  \n",
       "Residual                                        NaN  "
      ]
     },
     "execution_count": 23,
     "metadata": {},
     "output_type": "execute_result"
    }
   ],
   "source": [
    "sm.stats.anova_lm(result,typ =2)"
   ]
  },
  {
   "cell_type": "markdown",
   "metadata": {},
   "source": [
    "#### 잔차의 정규성을 확인"
   ]
  },
  {
   "cell_type": "code",
   "execution_count": 24,
   "metadata": {
    "scrolled": true
   },
   "outputs": [
    {
     "name": "stderr",
     "output_type": "stream",
     "text": [
      "/Users/hyunyoun/anaconda3/lib/python3.6/site-packages/matplotlib/font_manager.py:1316: UserWarning: findfont: Font family ['nanumgothic'] not found. Falling back to DejaVu Sans\n",
      "  (prop.get_family(), self.defaultFamily[fontext]))\n"
     ]
    },
    {
     "data": {
      "image/png": "[encoded data removed]",
      "text/plain": [
       "<matplotlib.figure.Figure at 0x1c1c769080>"
      ]
     },
     "metadata": {},
     "output_type": "display_data"
    }
   ],
   "source": [
    "sp.stats.probplot(result.resid, plot=plt)\n",
    "plt.show()"
   ]
  },
  {
   "cell_type": "markdown",
   "metadata": {},
   "source": [
    "* 정규성 검정을 통해 확인"
   ]
  },
  {
   "cell_type": "code",
   "execution_count": 25,
   "metadata": {},
   "outputs": [
    {
     "name": "stdout",
     "output_type": "stream",
     "text": [
      "Chi^2     : 361412.732 \n",
      "P-value   :  0.000 \n"
     ]
    }
   ],
   "source": [
    "test = sms.omni_normtest(result.resid)\n",
    "for xi in zip(['Chi^2', 'P-value'], test):\n",
    "    print (\"%-10s: %6.3f \" % xi)"
   ]
  },
  {
   "cell_type": "code",
   "execution_count": 26,
   "metadata": {
    "scrolled": true
   },
   "outputs": [
    {
     "name": "stdout",
     "output_type": "stream",
     "text": [
      "Jarque-Bera : 14598236.740\n",
      "P-value     :  0.000\n",
      "Skew        :  1.812\n",
      "Kurtosis    : 25.048\n"
     ]
    }
   ],
   "source": [
    "test = sms.jarque_bera(result.resid)\n",
    "for xi in zip(['Jarque-Bera', 'P-value', 'Skew', 'Kurtosis'], test):\n",
    "    print(\"%-12s: %6.3f\" % xi)"
   ]
  },
  {
   "cell_type": "markdown",
   "metadata": {},
   "source": [
    "#### 잔차와 독립변수의 관계 확인\n",
    "* 이분산성"
   ]
  },
  {
   "cell_type": "code",
   "execution_count": 27,
   "metadata": {
    "scrolled": false
   },
   "outputs": [
    {
     "name": "stderr",
     "output_type": "stream",
     "text": [
      "/Users/hyunyoun/anaconda3/lib/python3.6/site-packages/matplotlib/font_manager.py:1316: UserWarning: findfont: Font family ['nanumgothic'] not found. Falling back to DejaVu Sans\n",
      "  (prop.get_family(), self.defaultFamily[fontext]))\n"
     ]
    },
    {
     "data": {
      "image/png": "[encoded data removed]",
      "text/plain": [
       "<matplotlib.figure.Figure at 0x1c1c3457f0>"
      ]
     },
     "metadata": {},
     "output_type": "display_data"
    }
   ],
   "source": [
    "fig = plt.figure(figsize=(10,10))\n",
    "plt.scatter(result.predict(),result.resid)\n",
    "plt.show()"
   ]
  },
  {
   "cell_type": "markdown",
   "metadata": {},
   "source": [
    "* 종속변수를 log-transform을 하였는데 이분산성이 나타나는 것을 확인함."
   ]
  },
  {
   "cell_type": "markdown",
   "metadata": {},
   "source": [
    "#### 자기 상관 계수 확인\n",
    "* 오차가 독립인지를 검정"
   ]
  },
  {
   "cell_type": "code",
   "execution_count": 28,
   "metadata": {
    "scrolled": true
   },
   "outputs": [
    {
     "name": "stdout",
     "output_type": "stream",
     "text": [
      "1.95271874351\n"
     ]
    }
   ],
   "source": [
    "print (stools.durbin_watson(result.resid))"
   ]
  },
  {
   "cell_type": "markdown",
   "metadata": {},
   "source": [
    "#### 모델 결과\n",
    "* R-square : 0.65\n",
    "* Adj. R-squared : 0.645\n",
    "* F-statistic:\t7053.\n",
    "* Prob (F-statistic) : 0.00\n",
    "* Log-Likelihood : -4.6671e+05\n",
    "* AIC :\t9.338e+05\n",
    "* BIC :\t9.359e+05\n",
    "* condition Number : 417"
   ]
  },
  {
   "cell_type": "markdown",
   "metadata": {},
   "source": [
    "##### Root Mean Squared Logarithmic Error (RMSLE)"
   ]
  },
  {
   "cell_type": "code",
   "execution_count": 20,
   "metadata": {
    "collapsed": true
   },
   "outputs": [],
   "source": [
    "def rmsle(y, y0):\n",
    "    assert len(y) == len(y0)\n",
    "    return np.sqrt(np.mean(np.power(np.log1p(y)-np.log1p(y0), 2)))"
   ]
  },
  {
   "cell_type": "code",
   "execution_count": 29,
   "metadata": {},
   "outputs": [
    {
     "data": {
      "text/plain": [
       "0.46751648285915259"
      ]
     },
     "execution_count": 29,
     "metadata": {},
     "output_type": "execute_result"
    }
   ],
   "source": [
    "y_newis = np.exp(y_new)\n",
    "rmsle(train['trip_duration'],y_newis)"
   ]
  },
  {
   "cell_type": "markdown",
   "metadata": {},
   "source": [
    "#### Leverage & Outlier"
   ]
  },
  {
   "cell_type": "code",
   "execution_count": null,
   "metadata": {},
   "outputs": [
    {
     "name": "stdout",
     "output_type": "stream",
     "text": [
      "hat.sum() = 182.0\n"
     ]
    }
   ],
   "source": [
    "inf = result.get_influence()\n",
    "hat = inf.hat_matrix_diag\n",
    "print('hat.sum() =',hat.sum())\n",
    "x_new = train[fList]\n",
    "y_new = result.predict()"
   ]
  },
  {
   "cell_type": "markdown",
   "metadata": {},
   "source": [
    "* Fox recommentation 기준 Outlier 선정"
   ]
  },
  {
   "cell_type": "code",
   "execution_count": null,
   "metadata": {
    "collapsed": true,
    "scrolled": false
   },
   "outputs": [],
   "source": [
    "cooks_d2, pvals = inf.cooks_distance\n",
    "fox_cr = 4 / (len(train['trip_duration']) - 182)\n",
    "idx = np.where(cooks_d2 > fox_cr)[0]\n",
    "ax = plt.subplot()\n",
    "plt.scatter(y_new,train['trip_duration'])\n",
    "plt.scatter(y_new[idx], train['trip_duration'][idx], s=300, c=\"r\", alpha=0.5)\n",
    "utils.annotate_axes(range(len(idx)), idx, \n",
    "                    list(zip(y_new[idx], train['trip_duration'][idx])), [(-20, 15)] * len(idx), size=\"small\", ax=ax)\n",
    "plt.show()\n",
    "len(idx)"
   ]
  },
  {
   "cell_type": "markdown",
   "metadata": {},
   "source": [
    "* Fox Recommendation을 통해 21868개의 데이터가 outlier로 선정되었고, 이를 제거하고 추가 분석을 실시"
   ]
  },
  {
   "cell_type": "code",
   "execution_count": null,
   "metadata": {
    "collapsed": true
   },
   "outputs": [],
   "source": [
    "filter_X =train[:]\n",
    "filter_X.drop(idx,0,inplace = True)\n",
    "\n",
    "filter_X.tail()\n",
    "print (train.shape)\n",
    "print (filter_X.shape)"
   ]
  },
  {
   "cell_type": "code",
   "execution_count": null,
   "metadata": {
    "collapsed": true,
    "scrolled": false
   },
   "outputs": [],
   "source": [
    "modela = sm.OLS.from_formula(formulaIs,data = filter_X)\n",
    "resulta = modela.fit()\n",
    "resulta.summary()"
   ]
  },
  {
   "cell_type": "markdown",
   "metadata": {},
   "source": [
    "#### 실제값과 회귀모델 식으로 구한 값사이의 연관성을 확인"
   ]
  },
  {
   "cell_type": "code",
   "execution_count": null,
   "metadata": {
    "collapsed": true,
    "scrolled": true
   },
   "outputs": [],
   "source": [
    "y_newa = resulta.predict(filter_X[fList])\n",
    "ya = filter_X.apply(lambda x:np.log(x.trip_duration),axis=1)\n",
    "#ya = filter_X['trip_duration']\n",
    "plt.scatter(ya,y_newa)"
   ]
  },
  {
   "cell_type": "markdown",
   "metadata": {},
   "source": [
    "#### 종속변수에 대한 독립변수의 영향도를 F 검정을 사용하여 비교"
   ]
  },
  {
   "cell_type": "code",
   "execution_count": null,
   "metadata": {
    "collapsed": true,
    "scrolled": true
   },
   "outputs": [],
   "source": [
    "sm.stats.anova_lm(resulta,typ =2)"
   ]
  },
  {
   "cell_type": "markdown",
   "metadata": {},
   "source": [
    "#### 잔차의 정규성을 확인"
   ]
  },
  {
   "cell_type": "code",
   "execution_count": null,
   "metadata": {
    "collapsed": true,
    "scrolled": true
   },
   "outputs": [],
   "source": [
    "sp.stats.probplot(resulta.resid, plot=plt)\n",
    "plt.show()"
   ]
  },
  {
   "cell_type": "code",
   "execution_count": null,
   "metadata": {
    "collapsed": true
   },
   "outputs": [],
   "source": [
    "test = sms.omni_normtest(resulta.resid)\n",
    "for xi in zip(['Chi^2', 'P-value'], test):\n",
    "    print (\"%-10s: %6.3f \" % xi)"
   ]
  },
  {
   "cell_type": "code",
   "execution_count": null,
   "metadata": {
    "collapsed": true
   },
   "outputs": [],
   "source": [
    "test = sms.jarque_bera(resulta.resid)\n",
    "for xi in zip(['Jarque-Bera', 'P-value', 'Skew', 'Kurtosis'], test):\n",
    "    print(\"%-12s: %6.3f\" % xi)"
   ]
  },
  {
   "cell_type": "markdown",
   "metadata": {},
   "source": [
    "* 잔차의 정규성을 확인했을때, outlier를 제거하기 전보다 좋아지는 것을 확인하였으나 정규분포를 따르지 않는다는 것을 확인"
   ]
  },
  {
   "cell_type": "markdown",
   "metadata": {},
   "source": [
    "#### 잔차와 독립변수의 관계 확인\n",
    "* 이분산성"
   ]
  },
  {
   "cell_type": "code",
   "execution_count": null,
   "metadata": {
    "collapsed": true,
    "scrolled": false
   },
   "outputs": [],
   "source": [
    "fig = plt.figure(figsize=(10,10))\n",
    "plt.scatter(resulta.predict(),resulta.resid)\n",
    "plt.show()"
   ]
  },
  {
   "cell_type": "markdown",
   "metadata": {},
   "source": [
    "* 자기 상관 계수 확인"
   ]
  },
  {
   "cell_type": "code",
   "execution_count": null,
   "metadata": {
    "collapsed": true
   },
   "outputs": [],
   "source": [
    "print (stools.durbin_watson(resulta.resid))"
   ]
  },
  {
   "cell_type": "markdown",
   "metadata": {},
   "source": [
    "##### Root Mean Squared Logarithmic Error (RMSLE)"
   ]
  },
  {
   "cell_type": "code",
   "execution_count": null,
   "metadata": {
    "collapsed": true
   },
   "outputs": [],
   "source": [
    "y_newais = np.exp(y_newa)\n",
    "rmsle(filter_X['trip_duration'],y_newais)"
   ]
  },
  {
   "cell_type": "markdown",
   "metadata": {},
   "source": [
    "#### Test 결과 도출"
   ]
  },
  {
   "cell_type": "code",
   "execution_count": null,
   "metadata": {
    "collapsed": true
   },
   "outputs": [],
   "source": [
    "test = pd.read_csv('./data/transformed_test.csv')\n",
    "print (\"Training data has {} rows and {} columns\".format(test.shape[0],test.shape[1]))\n",
    "print (\"data : {}\".format(test.shape[0]))\n",
    "print (\"Feature : {}\".format(test.shape[1]))"
   ]
  },
  {
   "cell_type": "code",
   "execution_count": null,
   "metadata": {
    "collapsed": true,
    "scrolled": true
   },
   "outputs": [],
   "source": [
    "print (test.shape)\n",
    "test.describe()"
   ]
  },
  {
   "cell_type": "code",
   "execution_count": null,
   "metadata": {
    "collapsed": true
   },
   "outputs": [],
   "source": [
    "testy = resulta.predict(test[fList])"
   ]
  },
  {
   "cell_type": "code",
   "execution_count": null,
   "metadata": {
    "collapsed": true
   },
   "outputs": [],
   "source": [
    "tx = pd.concat([test['id'],testy],axis=1)"
   ]
  },
  {
   "cell_type": "code",
   "execution_count": null,
   "metadata": {
    "collapsed": true
   },
   "outputs": [],
   "source": [
    "tx.rename({0:\"trip_duration\"},inplace = True)"
   ]
  },
  {
   "cell_type": "code",
   "execution_count": null,
   "metadata": {
    "collapsed": true
   },
   "outputs": [],
   "source": [
    "tx.to_csv('./data/submission_Sigma.csv',index = False)"
   ]
  },
  {
   "cell_type": "code",
   "execution_count": null,
   "metadata": {
    "collapsed": true
   },
   "outputs": [],
   "source": [
    "answer = pd.read_csv('./data/test_answer_nyc_taxi.csv',low_memory=False)\n",
    "answer.dropna(axis=0,inplace = True)"
   ]
  },
  {
   "cell_type": "code",
   "execution_count": null,
   "metadata": {
    "collapsed": true,
    "scrolled": true
   },
   "outputs": [],
   "source": [
    "rmsle(answer.trip_duration, np.exp(testy))"
   ]
  },
  {
   "cell_type": "markdown",
   "metadata": {
    "collapsed": true
   },
   "source": [
    "#### 결과\n",
    "* Feature에 대한 이해를 통하여 회귀 모델을 만드는 것이 중요하다는 생각으로 접근\n",
    "* Linear Regresssion 모델을 통하여 예측을 해보고자 하였음\n",
    " * 최종으로 도출된 모델에서 잔차의 정규성이 맞는 않는 것을 확인\n",
    " * 개선의 필요성이 있음\n",
    "* pickup 위치와 dropoff위치를 뉴욕의 주단위로 묶어서 진행하였는데 좀 더 세분화하여 진행하면 더 정확해지지 않을까라는 생각을 함\n",
    "* 클러스터링이나 다른 분석기법을 이용하여 좀 더 정확한 예측이 가능할 것으로 판단됨\n",
    "* outlier를 어떻게 처리하는지에 대하여 좀더 생각해볼 필요성을 느낌\n"
   ]
  },
  {
   "cell_type": "code",
   "execution_count": null,
   "metadata": {
    "collapsed": true
   },
   "outputs": [],
   "source": []
  }
 ],
 "metadata": {
  "kernelspec": {
   "display_name": "Python 3",
   "language": "python",
   "name": "python3"
  },
  "language_info": {
   "codemirror_mode": {
    "name": "ipython",
    "version": 3
   },
   "file_extension": ".py",
   "mimetype": "text/x-python",
   "name": "python",
   "nbconvert_exporter": "python",
   "pygments_lexer": "ipython3",
   "version": "3.6.1"
  }
 },
 "nbformat": 4,
 "nbformat_minor": 2
}
